{
  "cells": [
    {
      "cell_type": "markdown",
      "metadata": {
        "id": "view-in-github",
        "colab_type": "text"
      },
      "source": [
        "<a href=\"https://colab.research.google.com/github/AlejandroVillazonG/Tareas_INF398/blob/main/T2.ipynb\" target=\"_parent\"><img src=\"https://colab.research.google.com/assets/colab-badge.svg\" alt=\"Open In Colab\"/></a>"
      ]
    },
    {
      "cell_type": "markdown",
      "metadata": {
        "id": "QBcH248yyO8_"
      },
      "source": [
        "<center><img src=\"data:image/png;base64,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\" title=\"Title text\" /></center>\n",
        "\n",
        "\n",
        "\n",
        "<hr style=\"height:2px;border:none\"/>\n",
        "<h1 align='center'> INF-398 INTRODUCCIÓN AL APRENDIZAJE AUTOMÁTICO - 2023-1 </h1>\n",
        "\n",
        "<H3 align='center'> Tarea 2  </H3>\n",
        "<hr style=\"height:2px;border:none\"/>"
      ]
    },
    {
      "cell_type": "markdown",
      "metadata": {
        "id": "LljwGpbwyflL"
      },
      "source": [
        "**Temas**\n",
        "* Manipulaciones en pandas y numpy, imputación de datos y preprocesamientos\n",
        "* Feature Engineering\n",
        "* Regresión\n",
        "* Clasificación\n",
        "* Árboles y Bosques de Regresión\n",
        "* Máquinas de ensamblado\n",
        "* Redes Neuronales\n"
      ]
    },
    {
      "cell_type": "markdown",
      "metadata": {
        "id": "kYiVgB4gzWfS"
      },
      "source": [
        "Importe las librerías necesarias para cargar explorar el conjunto de datos."
      ]
    },
    {
      "cell_type": "code",
      "execution_count": 166,
      "metadata": {
        "id": "sXeu58BVOsb0"
      },
      "outputs": [],
      "source": [
        "import numpy as np\n",
        "import pandas as pd\n",
        "import seaborn as sns\n",
        "import matplotlib.pyplot as plt\n",
        "import sklearn as sk\n",
        "from sklearn.model_selection import train_test_split, cross_val_score, KFold, GridSearchCV\n",
        "from sklearn.metrics import mean_squared_error, classification_report, confusion_matrix, mean_absolute_error, mutual_info_score\n",
        "from sklearn.feature_selection import mutual_info_classif\n",
        "from sklearn.tree import DecisionTreeRegressor\n",
        "\n",
        "import os\n",
        "from urllib import request\n",
        "from sklearn.ensemble import RandomForestRegressor, BaggingRegressor\n",
        "from sklearn.preprocessing import OneHotEncoder, StandardScaler\n",
        "\n",
        "from keras.models import Model, Sequential\n",
        "from keras.layers import Input, Dense\n",
        "from keras.callbacks import ModelCheckpoint, EarlyStopping\n",
        "\n",
        "import warnings\n",
        "\n",
        "# Ignorar las advertencias\n",
        "warnings.filterwarnings(\"ignore\")"
      ]
    },
    {
      "cell_type": "markdown",
      "metadata": {
        "id": "Xpssh9X6zgO0"
      },
      "source": [
        "# 1. Predicción de la calidad de vinos\n",
        "\n",
        "Los árboles de regresión, también conocidos como árboles de decisión para regresión, son un tipo de algoritmo de aprendizaje supervisado que se utiliza para predecir valores numéricos. Son una potente herramienta para tareas de regresión y ofrecen varias ventajas y consideraciones.\n",
        "\n",
        "<center><img src=https://cdn.shopify.com/s/files/1/1277/3667/files/an-essential-guide-1_480x480.png?v=1674719515></center>\n",
        "\n",
        "\n",
        "Los conjuntos de datos provienen del UCI Machine Learning Repository. Estos conjuntos de datos están relacionados con las variantes tintas y blancas del vino portugués \"Vinho Verde\".\n",
        "\n",
        "Estos dos conjuntos de datos contienen varias propiedades químicas de distintos vinos, como la acidez, el pH, el contenido de alcohol, etc. La variable objetivo es la calidad del vino la cual se puntúa del 0 al 10. Puede considerarse una tarea de clasificación o regresión en la que las clases están ordenadas y no balanceadas. Para esta pregunta nos centraremos en la tarea de regresión.\n",
        "\n",
        "Variables de entrada (basadas en pruebas físico-químicas):\n",
        "* fixed acidity\n",
        "* volatile acidity\n",
        "* citric acid\n",
        "* residual sugar\n",
        "* chlorides\n",
        "* free sulfur dioxide\n",
        "* total sulfur dioxide\n",
        "* density\n",
        "* pH\n",
        "* sulphates\n",
        "* alcohol\n",
        "* tipo\n",
        "\n",
        "Variable objetivo (basadas en datos sensoriales):\n",
        "* quality\n",
        "\n",
        "\n",
        "\n",
        "Para obtener más información sobre este conjunto de datos, revise el siguiente link: https://www.kaggle.com/datasets/rajyellow46/wine-quality."
      ]
    },
    {
      "cell_type": "markdown",
      "metadata": {
        "id": "By3lx0sn7WE8"
      },
      "source": [
        "## 1.1 Manipulación y exploración del conjunto de datos\n",
        "\n",
        "Lo primero es obtener los datos, para esto se pueden descargar los archivos directamente de la página de Kaggle a través del link de la descripción de arriba.\n",
        "\n",
        "Aplique lo aprendido en la tarea 1 y obtenga los datos de la forma que le sea más conveniente siempre y cuando estos sean los del link de la descripción."
      ]
    },
    {
      "cell_type": "code",
      "execution_count": 2,
      "metadata": {
        "colab": {
          "base_uri": "https://localhost:8080/",
          "height": 90
        },
        "id": "_1yzCrrEV_Uf",
        "outputId": "a0d90a35-6625-44d4-d916-98c44741c2c8"
      },
      "outputs": [
        {
          "output_type": "display_data",
          "data": {
            "text/plain": [
              "<IPython.core.display.HTML object>"
            ],
            "text/html": [
              "\n",
              "     <input type=\"file\" id=\"files-28d1c3de-0ef9-427b-8b68-a07fc60354c4\" name=\"files[]\" multiple disabled\n",
              "        style=\"border:none\" />\n",
              "     <output id=\"result-28d1c3de-0ef9-427b-8b68-a07fc60354c4\">\n",
              "      Upload widget is only available when the cell has been executed in the\n",
              "      current browser session. Please rerun this cell to enable.\n",
              "      </output>\n",
              "      <script>// Copyright 2017 Google LLC\n",
              "//\n",
              "// Licensed under the Apache License, Version 2.0 (the \"License\");\n",
              "// you may not use this file except in compliance with the License.\n",
              "// You may obtain a copy of the License at\n",
              "//\n",
              "//      http://www.apache.org/licenses/LICENSE-2.0\n",
              "//\n",
              "// Unless required by applicable law or agreed to in writing, software\n",
              "// distributed under the License is distributed on an \"AS IS\" BASIS,\n",
              "// WITHOUT WARRANTIES OR CONDITIONS OF ANY KIND, either express or implied.\n",
              "// See the License for the specific language governing permissions and\n",
              "// limitations under the License.\n",
              "\n",
              "/**\n",
              " * @fileoverview Helpers for google.colab Python module.\n",
              " */\n",
              "(function(scope) {\n",
              "function span(text, styleAttributes = {}) {\n",
              "  const element = document.createElement('span');\n",
              "  element.textContent = text;\n",
              "  for (const key of Object.keys(styleAttributes)) {\n",
              "    element.style[key] = styleAttributes[key];\n",
              "  }\n",
              "  return element;\n",
              "}\n",
              "\n",
              "// Max number of bytes which will be uploaded at a time.\n",
              "const MAX_PAYLOAD_SIZE = 100 * 1024;\n",
              "\n",
              "function _uploadFiles(inputId, outputId) {\n",
              "  const steps = uploadFilesStep(inputId, outputId);\n",
              "  const outputElement = document.getElementById(outputId);\n",
              "  // Cache steps on the outputElement to make it available for the next call\n",
              "  // to uploadFilesContinue from Python.\n",
              "  outputElement.steps = steps;\n",
              "\n",
              "  return _uploadFilesContinue(outputId);\n",
              "}\n",
              "\n",
              "// This is roughly an async generator (not supported in the browser yet),\n",
              "// where there are multiple asynchronous steps and the Python side is going\n",
              "// to poll for completion of each step.\n",
              "// This uses a Promise to block the python side on completion of each step,\n",
              "// then passes the result of the previous step as the input to the next step.\n",
              "function _uploadFilesContinue(outputId) {\n",
              "  const outputElement = document.getElementById(outputId);\n",
              "  const steps = outputElement.steps;\n",
              "\n",
              "  const next = steps.next(outputElement.lastPromiseValue);\n",
              "  return Promise.resolve(next.value.promise).then((value) => {\n",
              "    // Cache the last promise value to make it available to the next\n",
              "    // step of the generator.\n",
              "    outputElement.lastPromiseValue = value;\n",
              "    return next.value.response;\n",
              "  });\n",
              "}\n",
              "\n",
              "/**\n",
              " * Generator function which is called between each async step of the upload\n",
              " * process.\n",
              " * @param {string} inputId Element ID of the input file picker element.\n",
              " * @param {string} outputId Element ID of the output display.\n",
              " * @return {!Iterable<!Object>} Iterable of next steps.\n",
              " */\n",
              "function* uploadFilesStep(inputId, outputId) {\n",
              "  const inputElement = document.getElementById(inputId);\n",
              "  inputElement.disabled = false;\n",
              "\n",
              "  const outputElement = document.getElementById(outputId);\n",
              "  outputElement.innerHTML = '';\n",
              "\n",
              "  const pickedPromise = new Promise((resolve) => {\n",
              "    inputElement.addEventListener('change', (e) => {\n",
              "      resolve(e.target.files);\n",
              "    });\n",
              "  });\n",
              "\n",
              "  const cancel = document.createElement('button');\n",
              "  inputElement.parentElement.appendChild(cancel);\n",
              "  cancel.textContent = 'Cancel upload';\n",
              "  const cancelPromise = new Promise((resolve) => {\n",
              "    cancel.onclick = () => {\n",
              "      resolve(null);\n",
              "    };\n",
              "  });\n",
              "\n",
              "  // Wait for the user to pick the files.\n",
              "  const files = yield {\n",
              "    promise: Promise.race([pickedPromise, cancelPromise]),\n",
              "    response: {\n",
              "      action: 'starting',\n",
              "    }\n",
              "  };\n",
              "\n",
              "  cancel.remove();\n",
              "\n",
              "  // Disable the input element since further picks are not allowed.\n",
              "  inputElement.disabled = true;\n",
              "\n",
              "  if (!files) {\n",
              "    return {\n",
              "      response: {\n",
              "        action: 'complete',\n",
              "      }\n",
              "    };\n",
              "  }\n",
              "\n",
              "  for (const file of files) {\n",
              "    const li = document.createElement('li');\n",
              "    li.append(span(file.name, {fontWeight: 'bold'}));\n",
              "    li.append(span(\n",
              "        `(${file.type || 'n/a'}) - ${file.size} bytes, ` +\n",
              "        `last modified: ${\n",
              "            file.lastModifiedDate ? file.lastModifiedDate.toLocaleDateString() :\n",
              "                                    'n/a'} - `));\n",
              "    const percent = span('0% done');\n",
              "    li.appendChild(percent);\n",
              "\n",
              "    outputElement.appendChild(li);\n",
              "\n",
              "    const fileDataPromise = new Promise((resolve) => {\n",
              "      const reader = new FileReader();\n",
              "      reader.onload = (e) => {\n",
              "        resolve(e.target.result);\n",
              "      };\n",
              "      reader.readAsArrayBuffer(file);\n",
              "    });\n",
              "    // Wait for the data to be ready.\n",
              "    let fileData = yield {\n",
              "      promise: fileDataPromise,\n",
              "      response: {\n",
              "        action: 'continue',\n",
              "      }\n",
              "    };\n",
              "\n",
              "    // Use a chunked sending to avoid message size limits. See b/62115660.\n",
              "    let position = 0;\n",
              "    do {\n",
              "      const length = Math.min(fileData.byteLength - position, MAX_PAYLOAD_SIZE);\n",
              "      const chunk = new Uint8Array(fileData, position, length);\n",
              "      position += length;\n",
              "\n",
              "      const base64 = btoa(String.fromCharCode.apply(null, chunk));\n",
              "      yield {\n",
              "        response: {\n",
              "          action: 'append',\n",
              "          file: file.name,\n",
              "          data: base64,\n",
              "        },\n",
              "      };\n",
              "\n",
              "      let percentDone = fileData.byteLength === 0 ?\n",
              "          100 :\n",
              "          Math.round((position / fileData.byteLength) * 100);\n",
              "      percent.textContent = `${percentDone}% done`;\n",
              "\n",
              "    } while (position < fileData.byteLength);\n",
              "  }\n",
              "\n",
              "  // All done.\n",
              "  yield {\n",
              "    response: {\n",
              "      action: 'complete',\n",
              "    }\n",
              "  };\n",
              "}\n",
              "\n",
              "scope.google = scope.google || {};\n",
              "scope.google.colab = scope.google.colab || {};\n",
              "scope.google.colab._files = {\n",
              "  _uploadFiles,\n",
              "  _uploadFilesContinue,\n",
              "};\n",
              "})(self);\n",
              "</script> "
            ]
          },
          "metadata": {}
        },
        {
          "output_type": "stream",
          "name": "stdout",
          "text": [
            "Saving kaggle.json to kaggle.json\n"
          ]
        },
        {
          "output_type": "execute_result",
          "data": {
            "text/plain": [
              "{'kaggle.json': b'{\"username\":\"alejandrovillazon\",\"key\":\"647aa19dc81f77cd4ddbc2b2ee2647e2\"}'}"
            ]
          },
          "metadata": {},
          "execution_count": 2
        }
      ],
      "source": [
        "from google.colab import files\n",
        "files.upload()"
      ]
    },
    {
      "cell_type": "code",
      "execution_count": 3,
      "metadata": {
        "id": "YGdme0-w79_w"
      },
      "outputs": [],
      "source": [
        "!mkdir -p ~/.kaggle\n",
        "!cp kaggle.json ~/.kaggle/\n",
        "!chmod 600 ~/.kaggle/kaggle.json"
      ]
    },
    {
      "cell_type": "code",
      "execution_count": 4,
      "metadata": {
        "colab": {
          "base_uri": "https://localhost:8080/"
        },
        "id": "e5oC_Cwh8LE8",
        "outputId": "b538583d-f275-41bf-98c9-29de2e4fdc9b"
      },
      "outputs": [
        {
          "output_type": "stream",
          "name": "stdout",
          "text": [
            "Downloading wine-quality.zip to /content\n",
            "\r  0% 0.00/98.0k [00:00<?, ?B/s]\r100% 98.0k/98.0k [00:00<00:00, 487kB/s]\n",
            "\r100% 98.0k/98.0k [00:00<00:00, 486kB/s]\n"
          ]
        }
      ],
      "source": [
        "!kaggle datasets download -d rajyellow46/wine-quality"
      ]
    },
    {
      "cell_type": "code",
      "execution_count": 5,
      "metadata": {
        "colab": {
          "base_uri": "https://localhost:8080/"
        },
        "id": "iR35NEec8XuZ",
        "outputId": "f2af8e1c-e2e4-4849-f781-cc41e5b8fdbf"
      },
      "outputs": [
        {
          "output_type": "stream",
          "name": "stdout",
          "text": [
            "Archive:  /content/wine-quality.zip\n",
            "  inflating: winequalityN.csv        \n"
          ]
        }
      ],
      "source": [
        "!unzip /content/wine-quality.zip"
      ]
    },
    {
      "cell_type": "code",
      "execution_count": 6,
      "metadata": {
        "id": "bauoFq-V8b-C"
      },
      "outputs": [],
      "source": [
        "df = pd.read_csv('/content/winequalityN.csv')"
      ]
    },
    {
      "cell_type": "markdown",
      "metadata": {
        "id": "64ZvvBF0WGo1"
      },
      "source": [
        "### 1.1.1 Exploración del conjunto de datos\n",
        "\n",
        "Explore el conjunto de datos y responda brevemente las siguientes preguntas:\n",
        "\n",
        "> a) ¿Cuáles variables poseen valores numéricos y cuáles poseen valores categóricos?"
      ]
    },
    {
      "cell_type": "code",
      "execution_count": 7,
      "metadata": {
        "id": "zHLcrSHV9CZx"
      },
      "outputs": [],
      "source": [
        "def datainfo(data):\n",
        "    temp_ps = pd.DataFrame(index=data.columns)\n",
        "    temp_ps['DataType'] = data.dtypes\n",
        "    temp_ps[\"Non-null_Values\"] = data.count()\n",
        "    temp_ps['Unique_Values'] = data.nunique()\n",
        "    temp_ps['NaN_Values'] = data.isnull().sum()\n",
        "    temp_ps['NaN_Values_Percentage'] = (temp_ps['NaN_Values']/len(data))*100\n",
        "    return temp_ps\n",
        "\n",
        "df_info = datainfo(df)"
      ]
    },
    {
      "cell_type": "code",
      "execution_count": 8,
      "metadata": {
        "colab": {
          "base_uri": "https://localhost:8080/"
        },
        "id": "IS8kjhtLvfYr",
        "outputId": "84d54d92-38ff-488b-9416-813795baf025"
      },
      "outputs": [
        {
          "output_type": "execute_result",
          "data": {
            "text/plain": [
              "type                     object\n",
              "fixed acidity           float64\n",
              "volatile acidity        float64\n",
              "citric acid             float64\n",
              "residual sugar          float64\n",
              "chlorides               float64\n",
              "free sulfur dioxide     float64\n",
              "total sulfur dioxide    float64\n",
              "density                 float64\n",
              "pH                      float64\n",
              "sulphates               float64\n",
              "alcohol                 float64\n",
              "quality                   int64\n",
              "Name: DataType, dtype: object"
            ]
          },
          "metadata": {},
          "execution_count": 8
        }
      ],
      "source": [
        "df_info.DataType"
      ]
    },
    {
      "cell_type": "markdown",
      "metadata": {
        "id": "JIGFIbREt-0Y"
      },
      "source": [
        "Desde la fuente sin ninguna modificación, tenemos que todas las variables a excepción de _type_ son del tipo numérica, y la variable _type_ es del tipo categórica. Tambien notamos que de las variables del tipo numérica, la única variable que toma valores enteros es _quality_, que podriamos entender como tipo categórica según la información que tenemos del conjunto de datos, pero al menos desde la fuente es numérica."
      ]
    },
    {
      "cell_type": "markdown",
      "metadata": {
        "id": "9KpPuFDCvXzw"
      },
      "source": [
        "> b) ¿Existen datos faltantes, si es así en qué atributos faltan datos y cuantos faltan?"
      ]
    },
    {
      "cell_type": "markdown",
      "metadata": {
        "id": "lLo9aAuEwfTH"
      },
      "source": [
        "Si existen datos faltantes en el conjunto de datos, los atributos que los presentan se muestran a continuación, junto a la cantidad de datos faltantes:"
      ]
    },
    {
      "cell_type": "code",
      "execution_count": 9,
      "metadata": {
        "colab": {
          "base_uri": "https://localhost:8080/"
        },
        "id": "apRRFUtqt-GR",
        "outputId": "536d2981-27f4-4343-fe15-116436c1bfe2"
      },
      "outputs": [
        {
          "output_type": "execute_result",
          "data": {
            "text/plain": [
              "fixed acidity       10\n",
              "volatile acidity     8\n",
              "citric acid          3\n",
              "residual sugar       2\n",
              "chlorides            2\n",
              "pH                   9\n",
              "sulphates            4\n",
              "Name: NaN_Values, dtype: int64"
            ]
          },
          "metadata": {},
          "execution_count": 9
        }
      ],
      "source": [
        "df_info.query('NaN_Values > 0').NaN_Values"
      ]
    },
    {
      "cell_type": "markdown",
      "metadata": {
        "id": "b_AGqYTmvanN"
      },
      "source": [
        "> c) ¿Qué técnicas conoce para rellenar los datos faltantes de los atributos del dataset? (si no conoce ninguna investigue al menos 2)\n",
        "\n",
        "Conocemos las siguientes técnicas:\n",
        "\n",
        "* Rellenar los datos faltantes con el promedio o mediana del atributo en cuestión, tenemos como opción antes agrupar los datos según otro atributo (por ejemplo la variable target) y luego aplicar esta técnica.\n",
        "\n",
        "* Interpolación en los datos faltantes, consiste en aplicar una interpolación en la columna del atributo en cuestión, esta puede ser por ejemplo una interpolación lineal. Se recomienda/usa cuando los datos son temporales, por ejemplo con series económicas se utiliza esta técnica al cambiar la frecuencia de los datos, por ejemplo de trimestral a mensual, se rellenan los datos de los meses intermedios interpolando."
      ]
    },
    {
      "cell_type": "markdown",
      "metadata": {
        "id": "ZURKzsF2V6t-"
      },
      "source": [
        "### 1.1.2 Exploración de Features\n",
        "\n",
        "En problemas de regresión, el desbalance de la variable objetivo se refiere a una distribución desigual de los valores de la variable objetivo en el conjunto de datos. Esto significa que hay una presencia significativa de valores en una clase o rango de valores en comparación con otras clases o rangos de valores. Considerando lo anterior responda las siguientes preguntas:\n",
        "\n",
        "> a) Grafique histogramas y box plots de cada variable y comente acerca de la distribución de las características y de la variable objetivo\n",
        "\n"
      ]
    },
    {
      "cell_type": "code",
      "execution_count": 10,
      "metadata": {
        "colab": {
          "base_uri": "https://localhost:8080/",
          "height": 931
        },
        "id": "JKqr_aVj95Jz",
        "outputId": "f4715ee9-b82e-483d-a128-64ba4c873039"
      },
      "outputs": [
        {
          "output_type": "display_data",
          "data": {
            "text/plain": [
              "<Figure size 1500x1500 with 16 Axes>"
            ],
            "image/png": "[encoded data removed]"
          },
          "metadata": {}
        }
      ],
      "source": [
        "df.hist(figsize=(15,15), layout=(4,4), bins=20);"
      ]
    },
    {
      "cell_type": "markdown",
      "metadata": {
        "id": "SSdo31LCDBdY"
      },
      "source": [
        "***COMENTARIOS***\n",
        "\n",
        "---\n",
        "\n",
        "\n",
        "\n",
        "---\n",
        "\n",
        "\n",
        "\n",
        "---\n",
        "\n",
        "\n",
        "\n",
        "---\n",
        "\n",
        "\n",
        "\n",
        "---\n",
        "\n",
        "\n",
        "\n",
        "---\n",
        "\n"
      ]
    },
    {
      "cell_type": "code",
      "execution_count": 52,
      "metadata": {
        "colab": {
          "base_uri": "https://localhost:8080/",
          "height": 976
        },
        "id": "WwYbeEAp_6fd",
        "outputId": "b2888d86-d5e7-4e5e-d03b-473e78c434a3"
      },
      "outputs": [
        {
          "output_type": "display_data",
          "data": {
            "text/plain": [
              "<Figure size 1500x1500 with 20 Axes>"
            ],
            "image/png": "[encoded data removed]"
          },
          "metadata": {}
        }
      ],
      "source": [
        "# buscar outliers con boxplots\n",
        "df.plot(kind=\"box\",subplots=True,layout=(4,4),figsize=(15,15));"
      ]
    },
    {
      "cell_type": "markdown",
      "metadata": {
        "id": "Q_5mSit0DdkR"
      },
      "source": [
        "***COMENTARIOS***\n",
        "\n",
        "---\n",
        "---\n",
        "---\n",
        "---\n",
        "---\n",
        "---\n"
      ]
    },
    {
      "cell_type": "markdown",
      "metadata": {
        "id": "ZWlSgGPKTN4H"
      },
      "source": [
        "> b) ¿Considera que están *balanceados* los valores de la variable objetivo?\n",
        "\n",
        "***RESPUESTA***\n",
        "\n",
        "---\n",
        "---\n",
        "---\n",
        "---\n",
        "---\n",
        "---"
      ]
    },
    {
      "cell_type": "markdown",
      "metadata": {
        "id": "kHhEbVtPTTRm"
      },
      "source": [
        "> c) ¿Cómo afecta el desbalance en problemas de regresión en términos de la predicción y de la evaluación de un modelo?\n",
        "\n",
        "En términos de la predicción, cuando existe un desbalance en los valores de la variable objetivo, el modelo puede verse sesgado hacia la mayoría de los valores dominantes. Esto significa que el modelo puede tener dificultades para capturar y predecir con precisión los valores de la clase minoritaria o los valores menos representados en los datos. Como resultado, el modelo puede tener una tendencia a predecir con mayor precisión los valores de la clase mayoritaria, mientras que los valores de la clase minoritaria pueden estar subrepresentados o subestimados.\n",
        "\n",
        "En términos de la evaluación,\n",
        "\n",
        "\n",
        "***RESPUESTA***\n",
        "\n",
        "---\n",
        "---\n",
        "\n"
      ]
    },
    {
      "cell_type": "markdown",
      "source": [
        "Binarizamos la variable _type_:"
      ],
      "metadata": {
        "id": "mG_0gtgCINVc"
      }
    },
    {
      "cell_type": "code",
      "execution_count": 11,
      "metadata": {
        "id": "mN37bRfnD0pw"
      },
      "outputs": [],
      "source": [
        "df = pd.get_dummies(df,drop_first=True)"
      ]
    },
    {
      "cell_type": "markdown",
      "metadata": {
        "id": "p36NT9S-WiZ5"
      },
      "source": [
        "### 1.1.3 Separación de conjuntos\n",
        "\n",
        "> a) Separe el conjunto entre variables características y variable objetivo."
      ]
    },
    {
      "cell_type": "code",
      "execution_count": 12,
      "metadata": {
        "id": "Lb8xFji5FspA"
      },
      "outputs": [],
      "source": [
        "X = df.drop(['quality'], axis = 1)\n",
        "y = df['quality']"
      ]
    },
    {
      "cell_type": "markdown",
      "metadata": {
        "id": "AUwrNqtoVEO6"
      },
      "source": [
        "\n",
        "> b) Separe el conjunto de datos en un conjunto de entrenamiento y conjunto de prueba, utilizando una proporción 80%-20% respectivamente."
      ]
    },
    {
      "cell_type": "code",
      "execution_count": 13,
      "metadata": {
        "id": "5pHq_CzJFTSy"
      },
      "outputs": [],
      "source": [
        "X_train, X_test, y_train, y_test = train_test_split(X, y, test_size=0.2, shuffle=True, random_state = 42)"
      ]
    },
    {
      "cell_type": "markdown",
      "metadata": {
        "id": "kRerdy7gVF8s"
      },
      "source": [
        "> c) Una vez separado los conjuntos, obtenga la media de cada variable con datos faltantes en el conjunto de **entrenamiento** y reemplace los valores faltantes (NaN) de ambos conjuntos (entrenamiento y prueba) con dicha media."
      ]
    },
    {
      "cell_type": "code",
      "execution_count": 14,
      "metadata": {
        "colab": {
          "base_uri": "https://localhost:8080/"
        },
        "id": "Jo97qRo2VaIJ",
        "outputId": "32028798-33bc-44a2-ec7a-b716c73c9712"
      },
      "outputs": [
        {
          "output_type": "stream",
          "name": "stdout",
          "text": [
            "Se rellenó la variable: fixed acidity\n",
            "Se rellenó la variable: volatile acidity\n",
            "Se rellenó la variable: citric acid\n",
            "Se rellenó la variable: residual sugar\n",
            "Se rellenó la variable: chlorides\n",
            "Se rellenó la variable: pH\n",
            "Se rellenó la variable: sulphates\n"
          ]
        }
      ],
      "source": [
        "for column in X_train.columns[X_train.isnull().sum()>0]:\n",
        "  # Primero rellenamos X_test, pues si primero lo hacemos en X_train\n",
        "  # cambiará el valor del promedio.\n",
        "  X_test[column] = X_test[column].fillna(X_train[column].mean())\n",
        "  X_train[column] = X_train[column].fillna(X_train[column].mean())\n",
        "  print(f\"Se rellenó la variable: {column}\")"
      ]
    },
    {
      "cell_type": "markdown",
      "metadata": {
        "id": "-lWZJgV7oYSg"
      },
      "source": [
        "> d) Estandarice las variables categóricas numéricas no binarias, es decir, todas excepto el tipo de vino y la variable objetivo."
      ]
    },
    {
      "cell_type": "code",
      "execution_count": 15,
      "metadata": {
        "id": "tYyVcJlKaRfy"
      },
      "outputs": [],
      "source": [
        "X_scaler = StandardScaler()\n",
        "\n",
        "X_train[X_train.columns.drop('type_white')] = X_scaler.fit_transform(X_train[X_train.columns.drop('type_white')])\n",
        "\n",
        "X_test[X_test.columns.drop('type_white')] = X_scaler.transform(X_test[X_test.columns.drop('type_white')])"
      ]
    },
    {
      "cell_type": "markdown",
      "metadata": {
        "id": "BDqQNoG7rhQ7"
      },
      "source": [
        "e) Grafique la relevancia de cada variable con respecto a la variable objetivo utilizando la información mutua entre ambas, en otras palabras: MutualInformation($x_i,y$) siendo $x_i$ la $i$-ésima variable."
      ]
    },
    {
      "cell_type": "code",
      "execution_count": 17,
      "metadata": {
        "colab": {
          "base_uri": "https://localhost:8080/",
          "height": 472
        },
        "id": "L4q6_1HjemFu",
        "outputId": "50ff841d-37ab-48db-848c-2adef482fde4"
      },
      "outputs": [
        {
          "output_type": "display_data",
          "data": {
            "text/plain": [
              "<Figure size 640x480 with 1 Axes>"
            ],
            "image/png": "[encoded data removed]"
          },
          "metadata": {}
        }
      ],
      "source": [
        "mi = mutual_info_classif(X_train, y_train, random_state = 42)\n",
        "\n",
        "plt.barh(y = X_train.columns,\n",
        "         width = mi,\n",
        "         zorder = 2\n",
        "        )\n",
        "plt.xlabel('Mutual Information')\n",
        "plt.grid(axis = 'x', linewidth=0.5)\n",
        "plt.title('Relevancia de cada variable')\n",
        "plt.show()"
      ]
    },
    {
      "cell_type": "markdown",
      "metadata": {
        "id": "zOwJUOkwi23T"
      },
      "source": [
        "Del gráfico anterior, notamos que según la información mutua, las variables más relevantes son: _alcohol_ y _density_."
      ]
    },
    {
      "cell_type": "markdown",
      "metadata": {
        "id": "YlrYOAqhs_M9"
      },
      "source": [
        "> f) Cree un segundo conjunto quitando las características que menos aportan información según lo observado en su gráfico de la pregunta anterior. El número de características a quitar es algo que usted deberá escoger y argumentar por qué lo escogió. En adelante al conjunto con todas las variables lo llamaremos conjunto $\\textit{A}$ y al nuevo conjunto creado con las características quitadas lo llamaremos conjunto $\\textit{B}$.\n",
        "\n",
        "Elegiremos las variables que tienen información mutua mayor o igual al promedio de estas, esto debido a la distribución observada en el gráfico, al elegir el promedio como umbral establecemos un punto medio entre el aporte de las variables, considerando también aquellas que tienen un aporte moderado.\n",
        "\n",
        "A continuación, se muestran las variables que tienen una información mutua mayor o igual al promedio,"
      ]
    },
    {
      "cell_type": "code",
      "execution_count": 18,
      "metadata": {
        "colab": {
          "base_uri": "https://localhost:8080/"
        },
        "id": "OAFINJ2DEhf_",
        "outputId": "0ce8c4af-9fef-4e28-c02a-5b9fcfcce5b3"
      },
      "outputs": [
        {
          "output_type": "stream",
          "name": "stdout",
          "text": [
            "residual sugar\n",
            "chlorides\n",
            "total sulfur dioxide\n",
            "density\n",
            "alcohol\n"
          ]
        }
      ],
      "source": [
        "print(*X_train.columns[mi >= mi.mean()], sep = '\\n')"
      ]
    },
    {
      "cell_type": "code",
      "execution_count": 19,
      "metadata": {
        "id": "GR9HugETFZHW"
      },
      "outputs": [],
      "source": [
        "X_train_B = X_train.drop(X_train.columns[mi < mi.mean()], axis = 1)\n",
        "X_test_B = X_test.drop(X_train.columns[mi < mi.mean()], axis = 1)"
      ]
    },
    {
      "cell_type": "markdown",
      "metadata": {
        "id": "TFTHk1mUgrdq"
      },
      "source": [
        "## 1.2 Modelos de Regresión\n"
      ]
    },
    {
      "cell_type": "markdown",
      "metadata": {
        "id": "vvgw9OnaJQJ9"
      },
      "source": [
        "Para las siguientes preguntas usted debera entrenar, validar y evaluar los modelos utilizando los conjuntos $A$ y $B$ por separado, para luego hacer las respectivas comparaciones entre ambos. Cada modelo tiene sus propios hiperparámetros que usted deberá ajustar a través de una búsqueda en grilla, obteniendo así un conjunto de modelos distintos para posteriormente comparar las métricas de evaluación sobre el conjunto de prueba. Usted estará explorando un subconjunto del espacio de hipótesis variando los hiperparámetros que se le indiquen en cada modelo usando el módulo gridsearchcv de la librería sklearn. En el módulo gridsearchcv fije fije los parámetros de la forma:\n",
        "\n",
        "\n",
        "\n",
        "```\n",
        "GridSearchCV(estimator, param_grid, scoring=mean_squared_error, refit=True)\n",
        "```\n",
        "\n",
        "Siendo estimator el modelo a utilizar, scoring, la métrica para evaluar el modelo y refit=True para una vez probado todo el subconjunto del espacio de hipótesis, escojer el mejor modelo y entrnarlo con todo el conjunto de entrenamiento.\n",
        "\n",
        "**Nota:** puede utilizar parte del código utilizado en la tarea 1 de esta asignatura."
      ]
    },
    {
      "cell_type": "markdown",
      "metadata": {
        "id": "KqzXP2_EgyPE"
      },
      "source": [
        "### 1.2.1 Árbol de regresión\n"
      ]
    },
    {
      "cell_type": "markdown",
      "metadata": {
        "id": "GJfmNUSpJMA5"
      },
      "source": [
        "Entrene un árbol de regresión manteniendo fijos por defecto los que no se mencionen y variando los siguientes parámetros utilizando el módulo gridsearchcv de la librería sklearn:\n",
        "\n",
        "> a) max_depth: Probar con las profundidades 2, 20, 200. Describa brevemente qué es lo que significa modificar este hiperparámetro.\n",
        "\n",
        "El hiperparámetro _max_depth_ especifica la profundidad máxima permitida en el árbol. Por lo tanto, modificar este hiperparámetro implica cambiar el número máximo de divisiones o niveles que el árbol puede tener desde la raíz hasta las hojas. A mayor _max_depth_, mayor complejidad tendrá el modelo.\n",
        "\n",
        "> b) max_leaf_nodes: Probar con los valores 10, 50, 100. Describa brevemente qué es lo que significa modificar este hiperparámetro.\n",
        "\n",
        "El hiperparámetro _max_leaf_nodes_ define el número máximo de nodos hoja permitidos en el árbol. Por lo tanto, modificar este hiperparámetro significa variar el número máximo de nodos terminales que no se dividen más dentro del árbol. A mayor _max_leaf_nodes_, mayor complejidad tendrá el modelo."
      ]
    },
    {
      "cell_type": "markdown",
      "source": [
        "Para mejorar el ajuste del modelo de regresión estandarizaremos el target."
      ],
      "metadata": {
        "id": "lcvKjr4QKEOV"
      }
    },
    {
      "cell_type": "code",
      "source": [
        "y_scaler = StandardScaler()\n",
        "\n",
        "y_train = y_scaler.fit_transform(np.array(y_train).reshape(-1,1))"
      ],
      "metadata": {
        "id": "uH5g2tfbJxZ_"
      },
      "execution_count": 20,
      "outputs": []
    },
    {
      "cell_type": "code",
      "execution_count": 21,
      "metadata": {
        "id": "XxuP2Vehx6O5"
      },
      "outputs": [],
      "source": [
        "tree_model_A = DecisionTreeRegressor()\n",
        "tree_model_B = DecisionTreeRegressor()\n",
        "\n",
        "param_grid = {\n",
        "    'max_depth': [2, 20, 200],\n",
        "    'max_leaf_nodes': [10, 50, 100]\n",
        "}\n",
        "\n",
        "grid_search_A = GridSearchCV(estimator=tree_model_A,\n",
        "                             param_grid=param_grid,\n",
        "                             scoring='neg_mean_squared_error',\n",
        "                             refit=True)\n",
        "\n",
        "grid_search_B = GridSearchCV(estimator=tree_model_B,\n",
        "                             param_grid=param_grid,\n",
        "                             scoring='neg_mean_squared_error',\n",
        "                             refit=True)\n",
        "grid_search_A.fit(X_train, y_train)\n",
        "grid_search_B.fit(X_train_B, y_train);"
      ]
    },
    {
      "cell_type": "markdown",
      "metadata": {
        "id": "iVkmlXtYvIha"
      },
      "source": [
        "Responda las siguientes preguntas:\n",
        "\n",
        "> c) ¿Cuántos modelos de árboles de regresión le quedan en total?\n",
        "\n",
        "Se obtienen 9 modelos por cada representación A y B, se obtienen 9 pues esa es la cantidad de combinaciones que obtenemos al variar los dos hiperparámetros con 3 valores posibles cada uno, a continuación se presentan las 9 combinaciones mencionadas para ambas representaciones:"
      ]
    },
    {
      "cell_type": "code",
      "execution_count": 22,
      "metadata": {
        "colab": {
          "base_uri": "https://localhost:8080/"
        },
        "id": "qvhZMxWrzbm7",
        "outputId": "ded88de7-b025-4f64-bf3e-fb4c67b4bcba"
      },
      "outputs": [
        {
          "output_type": "stream",
          "name": "stdout",
          "text": [
            "{'max_depth': 2, 'max_leaf_nodes': 10}\n",
            "{'max_depth': 2, 'max_leaf_nodes': 50}\n",
            "{'max_depth': 2, 'max_leaf_nodes': 100}\n",
            "{'max_depth': 20, 'max_leaf_nodes': 10}\n",
            "{'max_depth': 20, 'max_leaf_nodes': 50}\n",
            "{'max_depth': 20, 'max_leaf_nodes': 100}\n",
            "{'max_depth': 200, 'max_leaf_nodes': 10}\n",
            "{'max_depth': 200, 'max_leaf_nodes': 50}\n",
            "{'max_depth': 200, 'max_leaf_nodes': 100}\n"
          ]
        }
      ],
      "source": [
        "print(*grid_search_A.cv_results_['params'], sep='\\n')"
      ]
    },
    {
      "cell_type": "markdown",
      "metadata": {
        "id": "mX4So2a-vMQ7"
      },
      "source": [
        "> d) De todas las combinaciones que entrenó, ¿cual es la que mejores resultados le da? Para esta pregunta evalue el modelo con el conjunto de validación de la grilla utilizando la métrica de evaluación $mean\\_squared\\_error$.\n",
        "\n",
        "La mejor combinación de hiperparámetros para cada representación son las que siguen:"
      ]
    },
    {
      "cell_type": "code",
      "execution_count": 28,
      "metadata": {
        "colab": {
          "base_uri": "https://localhost:8080/"
        },
        "id": "SBwtZ0M32GfD",
        "outputId": "1b48763a-9334-4a0e-fb05-bb85256ed57f"
      },
      "outputs": [
        {
          "output_type": "stream",
          "name": "stdout",
          "text": [
            "Para la representación A:\n",
            "\tmax_depth = 20\n",
            "\tmax_leaf_nodes = 50\n",
            "\n",
            "Para la representación B:\n",
            "\tmax_depth = 20\n",
            "\tmax_leaf_nodes = 10\n"
          ]
        }
      ],
      "source": [
        "print('Para la representación A:',*[f\"{key} = {value}\" for key, value in grid_search_A.best_params_.items()], sep = \"\\n\\t\")\n",
        "print('\\nPara la representación B:',*[f\"{key} = {value}\" for key, value in grid_search_B.best_params_.items()], sep = \"\\n\\t\")"
      ]
    },
    {
      "cell_type": "code",
      "execution_count": 24,
      "metadata": {
        "colab": {
          "base_uri": "https://localhost:8080/"
        },
        "id": "HaZSADCaNSAY",
        "outputId": "2c9a01dc-160c-4970-a32a-338f2b220707"
      },
      "outputs": [
        {
          "output_type": "stream",
          "name": "stdout",
          "text": [
            "MSE para A: 0.47483543211390333\n",
            "MSE para B: 0.5244699420903128\n"
          ]
        }
      ],
      "source": [
        "y_pred_A = y_scaler.inverse_transform(np.array(grid_search_A.predict(X_test)).reshape(-1,1))\n",
        "y_pred_B = y_scaler.inverse_transform(np.array(grid_search_B.predict(X_test_B)).reshape(-1,1))\n",
        "\n",
        "print('MSE para A:', mean_squared_error(y_test, y_pred_A))\n",
        "\n",
        "print('MSE para B:', mean_squared_error(y_test, y_pred_B))"
      ]
    },
    {
      "cell_type": "markdown",
      "source": [
        "Por lo tanto, basados en la métrica MSE, el mejor modelo es utilizando la representación A, con _max_depth_ = 20 y _max_leaf_nodes_ = 50."
      ],
      "metadata": {
        "id": "xz5Oc3xu0Z3w"
      }
    },
    {
      "cell_type": "markdown",
      "metadata": {
        "id": "2M87NTHqpYsO"
      },
      "source": [
        "> c) Entrene el conjunto de entrenamiento completo con el mejor modelo y mejor representación ($A$ o $B$) obtenida y evalúe su desempeño sobre el conjunto de prueba utilizando la métrica de evaluación $mean\\_squared\\_error$."
      ]
    },
    {
      "cell_type": "code",
      "execution_count": 29,
      "metadata": {
        "colab": {
          "base_uri": "https://localhost:8080/",
          "height": 74
        },
        "id": "H0h2HKeeGrjR",
        "outputId": "cfb91341-51f6-495a-bf92-68e8856041c0"
      },
      "outputs": [
        {
          "output_type": "execute_result",
          "data": {
            "text/plain": [
              "DecisionTreeRegressor(max_depth=20, max_leaf_nodes=50)"
            ],
            "text/html": [
              "<style>#sk-container-id-1 {color: black;background-color: white;}#sk-container-id-1 pre{padding: 0;}#sk-container-id-1 div.sk-toggleable {background-color: white;}#sk-container-id-1 label.sk-toggleable__label {cursor: pointer;display: block;width: 100%;margin-bottom: 0;padding: 0.3em;box-sizing: border-box;text-align: center;}#sk-container-id-1 label.sk-toggleable__label-arrow:before {content: \"▸\";float: left;margin-right: 0.25em;color: #696969;}#sk-container-id-1 label.sk-toggleable__label-arrow:hover:before {color: black;}#sk-container-id-1 div.sk-estimator:hover label.sk-toggleable__label-arrow:before {color: black;}#sk-container-id-1 div.sk-toggleable__content {max-height: 0;max-width: 0;overflow: hidden;text-align: left;background-color: #f0f8ff;}#sk-container-id-1 div.sk-toggleable__content pre {margin: 0.2em;color: black;border-radius: 0.25em;background-color: #f0f8ff;}#sk-container-id-1 input.sk-toggleable__control:checked~div.sk-toggleable__content {max-height: 200px;max-width: 100%;overflow: auto;}#sk-container-id-1 input.sk-toggleable__control:checked~label.sk-toggleable__label-arrow:before {content: \"▾\";}#sk-container-id-1 div.sk-estimator input.sk-toggleable__control:checked~label.sk-toggleable__label {background-color: #d4ebff;}#sk-container-id-1 div.sk-label input.sk-toggleable__control:checked~label.sk-toggleable__label {background-color: #d4ebff;}#sk-container-id-1 input.sk-hidden--visually {border: 0;clip: rect(1px 1px 1px 1px);clip: rect(1px, 1px, 1px, 1px);height: 1px;margin: -1px;overflow: hidden;padding: 0;position: absolute;width: 1px;}#sk-container-id-1 div.sk-estimator {font-family: monospace;background-color: #f0f8ff;border: 1px dotted black;border-radius: 0.25em;box-sizing: border-box;margin-bottom: 0.5em;}#sk-container-id-1 div.sk-estimator:hover {background-color: #d4ebff;}#sk-container-id-1 div.sk-parallel-item::after {content: \"\";width: 100%;border-bottom: 1px solid gray;flex-grow: 1;}#sk-container-id-1 div.sk-label:hover label.sk-toggleable__label {background-color: #d4ebff;}#sk-container-id-1 div.sk-serial::before {content: \"\";position: absolute;border-left: 1px solid gray;box-sizing: border-box;top: 0;bottom: 0;left: 50%;z-index: 0;}#sk-container-id-1 div.sk-serial {display: flex;flex-direction: column;align-items: center;background-color: white;padding-right: 0.2em;padding-left: 0.2em;position: relative;}#sk-container-id-1 div.sk-item {position: relative;z-index: 1;}#sk-container-id-1 div.sk-parallel {display: flex;align-items: stretch;justify-content: center;background-color: white;position: relative;}#sk-container-id-1 div.sk-item::before, #sk-container-id-1 div.sk-parallel-item::before {content: \"\";position: absolute;border-left: 1px solid gray;box-sizing: border-box;top: 0;bottom: 0;left: 50%;z-index: -1;}#sk-container-id-1 div.sk-parallel-item {display: flex;flex-direction: column;z-index: 1;position: relative;background-color: white;}#sk-container-id-1 div.sk-parallel-item:first-child::after {align-self: flex-end;width: 50%;}#sk-container-id-1 div.sk-parallel-item:last-child::after {align-self: flex-start;width: 50%;}#sk-container-id-1 div.sk-parallel-item:only-child::after {width: 0;}#sk-container-id-1 div.sk-dashed-wrapped {border: 1px dashed gray;margin: 0 0.4em 0.5em 0.4em;box-sizing: border-box;padding-bottom: 0.4em;background-color: white;}#sk-container-id-1 div.sk-label label {font-family: monospace;font-weight: bold;display: inline-block;line-height: 1.2em;}#sk-container-id-1 div.sk-label-container {text-align: center;}#sk-container-id-1 div.sk-container {/* jupyter's `normalize.less` sets `[hidden] { display: none; }` but bootstrap.min.css set `[hidden] { display: none !important; }` so we also need the `!important` here to be able to override the default hidden behavior on the sphinx rendered scikit-learn.org. See: https://github.com/scikit-learn/scikit-learn/issues/21755 */display: inline-block !important;position: relative;}#sk-container-id-1 div.sk-text-repr-fallback {display: none;}</style><div id=\"sk-container-id-1\" class=\"sk-top-container\"><div class=\"sk-text-repr-fallback\"><pre>DecisionTreeRegressor(max_depth=20, max_leaf_nodes=50)</pre><b>In a Jupyter environment, please rerun this cell to show the HTML representation or trust the notebook. <br />On GitHub, the HTML representation is unable to render, please try loading this page with nbviewer.org.</b></div><div class=\"sk-container\" hidden><div class=\"sk-item\"><div class=\"sk-estimator sk-toggleable\"><input class=\"sk-toggleable__control sk-hidden--visually\" id=\"sk-estimator-id-1\" type=\"checkbox\" checked><label for=\"sk-estimator-id-1\" class=\"sk-toggleable__label sk-toggleable__label-arrow\">DecisionTreeRegressor</label><div class=\"sk-toggleable__content\"><pre>DecisionTreeRegressor(max_depth=20, max_leaf_nodes=50)</pre></div></div></div></div></div>"
            ]
          },
          "metadata": {},
          "execution_count": 29
        }
      ],
      "source": [
        "model1 = DecisionTreeRegressor(max_depth = 20,\n",
        "                               max_leaf_nodes = 50)\n",
        "model1.fit(X_train,y_train)"
      ]
    },
    {
      "cell_type": "code",
      "execution_count": 30,
      "metadata": {
        "colab": {
          "base_uri": "https://localhost:8080/"
        },
        "id": "q84LkcWlJ6PQ",
        "outputId": "f2dd030b-8c16-4e6e-c3a0-9b65fda8fdfb"
      },
      "outputs": [
        {
          "output_type": "stream",
          "name": "stdout",
          "text": [
            "0.47483543211390333\n"
          ]
        }
      ],
      "source": [
        "mse_model_1 = mean_squared_error(y_test, y_scaler.inverse_transform(np.array(model1.predict(X_test)).reshape(-1,1)))\n",
        "print(mse_model_1)"
      ]
    },
    {
      "cell_type": "markdown",
      "metadata": {
        "id": "QS15hAZaKRQZ"
      },
      "source": [
        "### 1.2.2 Random Forest Regressor"
      ]
    },
    {
      "cell_type": "markdown",
      "metadata": {
        "id": "UNVi9PhtjAGQ"
      },
      "source": [
        "Entrene un bosque aleatorio de regresión manteniendo fijos por defecto los que no se mencionen y variando los siguientes parámetros utilizando el módulo gridsearchcv de la librería sklearn:\n",
        "\n",
        "* max_depth: Probar con las profundidades 2, 20, 200. Describa brevemente qué es lo que significa modificar este hiperparámetro.\n",
        "\n",
        "El hiperparámetro _max_depth_ controla la profundidad máxima que puede tener un árbol de decisión en el bosque aleatorio.\n",
        "\n",
        "* max_samples: Probar con las siguientes proporciones 0.1, 0.5, 1.0. Describa brevemente qué es lo que significa modificar este hiperparámetro.\n",
        "\n",
        "Este hiperparámetro determina la proporción de muestras de entrenamiento que se utilizarán para construir cada árbol individual dentro del bosque aleatorio."
      ]
    },
    {
      "cell_type": "code",
      "source": [
        "rfg_A = RandomForestRegressor(random_state = 42)\n",
        "rfg_B = RandomForestRegressor(random_state = 42)\n",
        "\n",
        "param_grid = {\n",
        "    'max_depth': [2, 20, 200],\n",
        "    'max_samples': [0.1, 0.5, 1.0]\n",
        "}\n",
        "\n",
        "grid_search_A = GridSearchCV(estimator=rfg_A,\n",
        "                             param_grid=param_grid,\n",
        "                             scoring='neg_mean_squared_error',\n",
        "                             refit=True)\n",
        "grid_search_B = GridSearchCV(estimator=rfg_B,\n",
        "                             param_grid=param_grid,\n",
        "                             scoring='neg_mean_squared_error',\n",
        "                             refit=True)\n",
        "\n",
        "grid_search_A.fit(X_train, y_train)\n",
        "grid_search_B.fit(X_train_B, y_train);"
      ],
      "metadata": {
        "id": "hpQv9rtVNCFL"
      },
      "execution_count": 43,
      "outputs": []
    },
    {
      "cell_type": "markdown",
      "source": [
        "\n",
        "El objetivo de los métodos $\\textit{ensemble machine}$ es combinar las predicciones de varios estimadores base construidos con un algoritmo de aprendizaje determinado para mejorar la capacidad de generalización / robustez respecto a un único estimador. Se suelen distinguir dos familias de métodos ensemble: los métodos $averaging$ y los métodos $boosting$. Respecto a lo anterior responda las siguientes preguntas:\n",
        "\n",
        "> a) Defina con sus propias palabras qué son y en qué se diferencian los métodos $averaging$ y $boosting$.\n",
        "\n",
        "Son métodos que combinan distintos modelos para mejorar la generalización y robustez del modelo final. Se diferencian en la forma en que se combinan los modelos base, los métodos _averaging_ promedian las predicciones de los estimadores base de forma independiente, mientras que los métodos _boosting_ combinan los estimadores secuencialmente, enfocándose en corregir los errores de los modelos anteriores.\n",
        "\n",
        "> b) A cual de los dos anteriormente definidos pertenece el modelo de regresión Random Forest?\n",
        "\n",
        "Pertenece al método _averaging_, pues promedia las predicciones de distintos modelos tipo árbol de decisión para entregar el resultado final.\n",
        "\n",
        "> c) De todas las combinaciones que entrenó, ¿cual es la que mejores resultados le da? Para esta pregunta evalue el modelo con el conjunto de validación utilizando la métrica de evaluación $mean\\_squared\\_error$."
      ],
      "metadata": {
        "id": "r5ukQYkaM4Qt"
      }
    },
    {
      "cell_type": "markdown",
      "source": [
        "A continuación, se presentan las mejores combinaciones de hiperparámetros encontradas para cada representación,"
      ],
      "metadata": {
        "id": "u-bsiQcw5Rgi"
      }
    },
    {
      "cell_type": "code",
      "source": [
        "print('Para la representación A:',*[f\"{key} = {value}\" for key, value in grid_search_A.best_params_.items()], sep = \"\\n\\t\")\n",
        "print('\\nPara la representación B:',*[f\"{key} = {value}\" for key, value in grid_search_B.best_params_.items()], sep = \"\\n\\t\")"
      ],
      "metadata": {
        "colab": {
          "base_uri": "https://localhost:8080/"
        },
        "id": "68cFH62d4wmv",
        "outputId": "fef273e1-152d-4efc-cec1-e74a02343707"
      },
      "execution_count": 44,
      "outputs": [
        {
          "output_type": "stream",
          "name": "stdout",
          "text": [
            "Para la representación A:\n",
            "\tmax_depth = 200\n",
            "\tmax_samples = 1.0\n",
            "\n",
            "Para la representación B:\n",
            "\tmax_depth = 200\n",
            "\tmax_samples = 1.0\n"
          ]
        }
      ]
    },
    {
      "cell_type": "code",
      "source": [
        "y_pred_A = y_scaler.inverse_transform(np.array(grid_search_A.predict(X_test)).reshape(-1,1))\n",
        "y_pred_B = y_scaler.inverse_transform(np.array(grid_search_B.predict(X_test_B)).reshape(-1,1))\n",
        "\n",
        "print('MSE para A:', mean_squared_error(y_test, y_pred_A))\n",
        "\n",
        "print('MSE para B:', mean_squared_error(y_test, y_pred_B))"
      ],
      "metadata": {
        "colab": {
          "base_uri": "https://localhost:8080/"
        },
        "id": "WntuAGJa5Pm7",
        "outputId": "0d86e9b1-0067-4037-9414-b5f7a28b96c8"
      },
      "execution_count": 45,
      "outputs": [
        {
          "output_type": "stream",
          "name": "stdout",
          "text": [
            "MSE para A: 0.31653346153846157\n",
            "MSE para B: 0.4082065384615385\n"
          ]
        }
      ]
    },
    {
      "cell_type": "markdown",
      "source": [
        "Por lo tanto, basados en la métrica MSE, el mejor modelo es utilizando la representación A, con _max_depth_ = 200 y _max_samples_ = 1."
      ],
      "metadata": {
        "id": "axQHc8Y45hjX"
      }
    },
    {
      "cell_type": "code",
      "source": [
        "model2 = RandomForestRegressor(max_depth = 200, max_samples = 1.0, random_state = 42)\n",
        "model2.fit(X_train, y_train)\n",
        "mse_model_2 = mean_squared_error(y_test, y_scaler.inverse_transform(np.array(model2.predict(X_test)).reshape(-1,1)))\n",
        "print(mse_model_2)"
      ],
      "metadata": {
        "colab": {
          "base_uri": "https://localhost:8080/"
        },
        "id": "W3WfrKEJ_zRs",
        "outputId": "28224c35-bb35-4731-c473-0a101279e174"
      },
      "execution_count": 46,
      "outputs": [
        {
          "output_type": "stream",
          "name": "stdout",
          "text": [
            "0.31653346153846157\n"
          ]
        }
      ]
    },
    {
      "cell_type": "markdown",
      "metadata": {
        "id": "KjhwXiY9WudC"
      },
      "source": [
        "### 1.2.3 Bagging Regressor\n"
      ]
    },
    {
      "cell_type": "markdown",
      "metadata": {
        "id": "W4fwVniNjgPM"
      },
      "source": [
        "Entrene un Bagging regresor utilizando como estimador (parámetro $estimator$) el mejor árbol de decisión obtenido en la pregunta 1.2.1, variando los siguientes parámetros utilizando el módulo gridsearchcv de la librería sklearn:\n",
        "\n",
        "* n_estimators: Probar con 10, 100, 1000 estimadores. Describa brevemente qué es lo que significa modificar este hiperparámetro.\n",
        "\n",
        "Modificar este hiperparámetro controla el número de estimadores base que se utilizan en el conjunto.\n",
        "\n",
        "* max_samples: Probar con las siguientes proporciones 0.1, 0.5, 1.0. Describa brevemente qué es lo que significa modificar este hiperparámetro.\n",
        "\n",
        "Modificar el hiperparámetro _max_samples_ controla la proporción de muestras utilizadas para entrenar cada estimador base en el conjunto."
      ]
    },
    {
      "cell_type": "code",
      "source": [
        "bagging_A = BaggingRegressor(estimator=model1)\n",
        "bagging_B = BaggingRegressor(estimator=model1)\n",
        "\n",
        "param_grid = {\n",
        "    'n_estimators': [10, 100, 1000],\n",
        "    'max_samples': [0.1, 0.5, 1.0]\n",
        "}\n",
        "\n",
        "grid_search_A = GridSearchCV(estimator=bagging_A,\n",
        "                             param_grid=param_grid,\n",
        "                             scoring='neg_mean_squared_error',\n",
        "                             refit=True)\n",
        "grid_search_B = GridSearchCV(estimator=bagging_B,\n",
        "                             param_grid=param_grid,\n",
        "                             scoring='neg_mean_squared_error',\n",
        "                             refit=True)\n",
        "\n",
        "grid_search_A.fit(X_train, y_train)\n",
        "grid_search_B.fit(X_train_B, y_train);"
      ],
      "metadata": {
        "id": "hw3FDVCONYNa"
      },
      "execution_count": 47,
      "outputs": []
    },
    {
      "cell_type": "markdown",
      "source": [
        "Responda las siguientes preguntas\n",
        "\n",
        "> a) ¿Cómo funciona el modelo Bagging?\n",
        "\n",
        "El modelo Bagging funciona mediante la creación de múltiples subconjuntos de datos a través de muestreo con reemplazo (bootstrap), donde se entrena un estimador base independiente en cada subconjunto. Luego, las predicciones de los estimadores base se promedian para obtener la predicción final del modelo Bagging.\n",
        "\n",
        "> b) A qué familia de métodos pertenece el Bagging regresor: $averaging$ o $boosting$.\n",
        "\n",
        "Pertenece a la familia _averaging_.\n",
        "\n",
        "> c) De todas las combinaciones que entrenó, ¿cual es la que mejores resultados le da? Para esta pregunta evalue el modelo con el conjunto de validación utilizando la métrica de evaluación $mean\\_squared\\_error$."
      ],
      "metadata": {
        "id": "pFpOLJXgNYuI"
      }
    },
    {
      "cell_type": "code",
      "source": [
        "print('Para la representación A:',*[f\"{key} = {value}\" for key, value in grid_search_A.best_params_.items()], sep = \"\\n\\t\")\n",
        "print('\\nPara la representación B:',*[f\"{key} = {value}\" for key, value in grid_search_B.best_params_.items()], sep = \"\\n\\t\")"
      ],
      "metadata": {
        "colab": {
          "base_uri": "https://localhost:8080/"
        },
        "outputId": "e368e3b2-6ec2-4193-bb52-42d84a0a8671",
        "id": "ZiYT9vBiGRGR"
      },
      "execution_count": 48,
      "outputs": [
        {
          "output_type": "stream",
          "name": "stdout",
          "text": [
            "Para la representación A:\n",
            "\tmax_samples = 0.5\n",
            "\tn_estimators = 1000\n",
            "\n",
            "Para la representación B:\n",
            "\tmax_samples = 0.5\n",
            "\tn_estimators = 1000\n"
          ]
        }
      ]
    },
    {
      "cell_type": "code",
      "source": [
        "y_pred_A = y_scaler.inverse_transform(np.array(grid_search_A.predict(X_test)).reshape(-1,1))\n",
        "y_pred_B = y_scaler.inverse_transform(np.array(grid_search_B.predict(X_test_B)).reshape(-1,1))\n",
        "\n",
        "print('MSE para A:', mean_squared_error(y_test, y_pred_A))\n",
        "\n",
        "print('MSE para B:', mean_squared_error(y_test, y_pred_B))"
      ],
      "metadata": {
        "colab": {
          "base_uri": "https://localhost:8080/"
        },
        "outputId": "bb1fca58-d17d-41b0-95c0-faa157aa855f",
        "id": "FGGDE0pFGRGU"
      },
      "execution_count": 49,
      "outputs": [
        {
          "output_type": "stream",
          "name": "stdout",
          "text": [
            "MSE para A: 0.4173123446604953\n",
            "MSE para B: 0.47412064147297367\n"
          ]
        }
      ]
    },
    {
      "cell_type": "code",
      "execution_count": 50,
      "metadata": {
        "id": "bjK6R0g3jkLd",
        "colab": {
          "base_uri": "https://localhost:8080/",
          "height": 117
        },
        "outputId": "5e8be7b3-1c4f-4f3e-e14b-02e568de8972"
      },
      "outputs": [
        {
          "output_type": "execute_result",
          "data": {
            "text/plain": [
              "BaggingRegressor(estimator=DecisionTreeRegressor(max_depth=20,\n",
              "                                                 max_leaf_nodes=50),\n",
              "                 max_samples=0.5, n_estimators=1000)"
            ],
            "text/html": [
              "<style>#sk-container-id-2 {color: black;background-color: white;}#sk-container-id-2 pre{padding: 0;}#sk-container-id-2 div.sk-toggleable {background-color: white;}#sk-container-id-2 label.sk-toggleable__label {cursor: pointer;display: block;width: 100%;margin-bottom: 0;padding: 0.3em;box-sizing: border-box;text-align: center;}#sk-container-id-2 label.sk-toggleable__label-arrow:before {content: \"▸\";float: left;margin-right: 0.25em;color: #696969;}#sk-container-id-2 label.sk-toggleable__label-arrow:hover:before {color: black;}#sk-container-id-2 div.sk-estimator:hover label.sk-toggleable__label-arrow:before {color: black;}#sk-container-id-2 div.sk-toggleable__content {max-height: 0;max-width: 0;overflow: hidden;text-align: left;background-color: #f0f8ff;}#sk-container-id-2 div.sk-toggleable__content pre {margin: 0.2em;color: black;border-radius: 0.25em;background-color: #f0f8ff;}#sk-container-id-2 input.sk-toggleable__control:checked~div.sk-toggleable__content {max-height: 200px;max-width: 100%;overflow: auto;}#sk-container-id-2 input.sk-toggleable__control:checked~label.sk-toggleable__label-arrow:before {content: \"▾\";}#sk-container-id-2 div.sk-estimator input.sk-toggleable__control:checked~label.sk-toggleable__label {background-color: #d4ebff;}#sk-container-id-2 div.sk-label input.sk-toggleable__control:checked~label.sk-toggleable__label {background-color: #d4ebff;}#sk-container-id-2 input.sk-hidden--visually {border: 0;clip: rect(1px 1px 1px 1px);clip: rect(1px, 1px, 1px, 1px);height: 1px;margin: -1px;overflow: hidden;padding: 0;position: absolute;width: 1px;}#sk-container-id-2 div.sk-estimator {font-family: monospace;background-color: #f0f8ff;border: 1px dotted black;border-radius: 0.25em;box-sizing: border-box;margin-bottom: 0.5em;}#sk-container-id-2 div.sk-estimator:hover {background-color: #d4ebff;}#sk-container-id-2 div.sk-parallel-item::after {content: \"\";width: 100%;border-bottom: 1px solid gray;flex-grow: 1;}#sk-container-id-2 div.sk-label:hover label.sk-toggleable__label {background-color: #d4ebff;}#sk-container-id-2 div.sk-serial::before {content: \"\";position: absolute;border-left: 1px solid gray;box-sizing: border-box;top: 0;bottom: 0;left: 50%;z-index: 0;}#sk-container-id-2 div.sk-serial {display: flex;flex-direction: column;align-items: center;background-color: white;padding-right: 0.2em;padding-left: 0.2em;position: relative;}#sk-container-id-2 div.sk-item {position: relative;z-index: 1;}#sk-container-id-2 div.sk-parallel {display: flex;align-items: stretch;justify-content: center;background-color: white;position: relative;}#sk-container-id-2 div.sk-item::before, #sk-container-id-2 div.sk-parallel-item::before {content: \"\";position: absolute;border-left: 1px solid gray;box-sizing: border-box;top: 0;bottom: 0;left: 50%;z-index: -1;}#sk-container-id-2 div.sk-parallel-item {display: flex;flex-direction: column;z-index: 1;position: relative;background-color: white;}#sk-container-id-2 div.sk-parallel-item:first-child::after {align-self: flex-end;width: 50%;}#sk-container-id-2 div.sk-parallel-item:last-child::after {align-self: flex-start;width: 50%;}#sk-container-id-2 div.sk-parallel-item:only-child::after {width: 0;}#sk-container-id-2 div.sk-dashed-wrapped {border: 1px dashed gray;margin: 0 0.4em 0.5em 0.4em;box-sizing: border-box;padding-bottom: 0.4em;background-color: white;}#sk-container-id-2 div.sk-label label {font-family: monospace;font-weight: bold;display: inline-block;line-height: 1.2em;}#sk-container-id-2 div.sk-label-container {text-align: center;}#sk-container-id-2 div.sk-container {/* jupyter's `normalize.less` sets `[hidden] { display: none; }` but bootstrap.min.css set `[hidden] { display: none !important; }` so we also need the `!important` here to be able to override the default hidden behavior on the sphinx rendered scikit-learn.org. See: https://github.com/scikit-learn/scikit-learn/issues/21755 */display: inline-block !important;position: relative;}#sk-container-id-2 div.sk-text-repr-fallback {display: none;}</style><div id=\"sk-container-id-2\" class=\"sk-top-container\"><div class=\"sk-text-repr-fallback\"><pre>BaggingRegressor(estimator=DecisionTreeRegressor(max_depth=20,\n",
              "                                                 max_leaf_nodes=50),\n",
              "                 max_samples=0.5, n_estimators=1000)</pre><b>In a Jupyter environment, please rerun this cell to show the HTML representation or trust the notebook. <br />On GitHub, the HTML representation is unable to render, please try loading this page with nbviewer.org.</b></div><div class=\"sk-container\" hidden><div class=\"sk-item sk-dashed-wrapped\"><div class=\"sk-label-container\"><div class=\"sk-label sk-toggleable\"><input class=\"sk-toggleable__control sk-hidden--visually\" id=\"sk-estimator-id-2\" type=\"checkbox\" ><label for=\"sk-estimator-id-2\" class=\"sk-toggleable__label sk-toggleable__label-arrow\">BaggingRegressor</label><div class=\"sk-toggleable__content\"><pre>BaggingRegressor(estimator=DecisionTreeRegressor(max_depth=20,\n",
              "                                                 max_leaf_nodes=50),\n",
              "                 max_samples=0.5, n_estimators=1000)</pre></div></div></div><div class=\"sk-parallel\"><div class=\"sk-parallel-item\"><div class=\"sk-item\"><div class=\"sk-label-container\"><div class=\"sk-label sk-toggleable\"><input class=\"sk-toggleable__control sk-hidden--visually\" id=\"sk-estimator-id-3\" type=\"checkbox\" ><label for=\"sk-estimator-id-3\" class=\"sk-toggleable__label sk-toggleable__label-arrow\">estimator: DecisionTreeRegressor</label><div class=\"sk-toggleable__content\"><pre>DecisionTreeRegressor(max_depth=20, max_leaf_nodes=50)</pre></div></div></div><div class=\"sk-serial\"><div class=\"sk-item\"><div class=\"sk-estimator sk-toggleable\"><input class=\"sk-toggleable__control sk-hidden--visually\" id=\"sk-estimator-id-4\" type=\"checkbox\" ><label for=\"sk-estimator-id-4\" class=\"sk-toggleable__label sk-toggleable__label-arrow\">DecisionTreeRegressor</label><div class=\"sk-toggleable__content\"><pre>DecisionTreeRegressor(max_depth=20, max_leaf_nodes=50)</pre></div></div></div></div></div></div></div></div></div></div>"
            ]
          },
          "metadata": {},
          "execution_count": 50
        }
      ],
      "source": [
        "model3 = BaggingRegressor(estimator = model1, max_samples = 0.5, n_estimators = 1000)\n",
        "model3.fit(X_train,y_train)"
      ]
    },
    {
      "cell_type": "code",
      "execution_count": 51,
      "metadata": {
        "id": "X5VwA8YkjooA",
        "colab": {
          "base_uri": "https://localhost:8080/"
        },
        "outputId": "c5a7a8c0-3b59-485b-a24a-9b8534204a5e"
      },
      "outputs": [
        {
          "output_type": "stream",
          "name": "stdout",
          "text": [
            "0.41729271720345773\n"
          ]
        }
      ],
      "source": [
        "y_pred = y_scaler.inverse_transform(np.array(model3.predict(X_test)).reshape(-1, 1))\n",
        "mse_model_3 = mean_squared_error(y_test, y_pred)\n",
        "print(mse_model_3)"
      ]
    },
    {
      "cell_type": "markdown",
      "metadata": {
        "id": "pay3G53ZkkdA"
      },
      "source": [
        "## 1.3 Conclusiones\n",
        "\n",
        "Comente con qué modelo y representación obtiene los mejores resultados, ¿qué otros experimentos realizaría para intentar mejorar los resultados?"
      ]
    },
    {
      "cell_type": "markdown",
      "source": [
        "***RESPUESTA***\n",
        "\n",
        "---\n",
        "---\n",
        "---\n",
        "---\n",
        "---\n",
        "---\n"
      ],
      "metadata": {
        "id": "qfnAXheFNjv2"
      }
    },
    {
      "cell_type": "markdown",
      "metadata": {
        "id": "A3M0LqssgFsS"
      },
      "source": [
        "# 2. Reconocimiento de actividad humana mediante sensores de movimiento.\n",
        "\n",
        "Los conjuntos de datos provienen del UCI Machine Learning Repository. En este conjuntos de datos cada persona realizó seis actividades (CWALKING, WALKING_UPSTAIRS, WALKING_DOWNSTAIRS, SITTING, STANDING, LAYING) llevando un smartphone en la cintura. Utilizando su acelerómetro y giroscopio integrados, capturamos la aceleración lineal de 3 ejes y la velocidad angular de 3 ejes a una frecuencia constante de 50 Hz. El conjunto de datos obtenido se ha dividido aleatoriamente en dos conjuntos, de los que se seleccionó el 70% de los voluntarios para generar los datos de entrenamiento y el 30% los datos de prueba.\n",
        "\n",
        "<center><img src=\"https://imgtr.ee/images/2023/06/04/bSx54.jpg\" alt=\"bSx54.jpg\" border=\"0\" width=\"480\" height=\"480\" /></center>\n",
        "\n",
        "Para esta pregunta nos centraremos en la tarea de clasificación de actividades (variable objetivo) según los datos de movimiento proporcionados por los sensores (atributos).\n",
        "\n",
        "Para cada registro en el conjunto de datos nos centraremos en:\n",
        "* Aceleración triaxial del acelerómetro (aceleración total) y la aceleración estimada del cuerpo.\n",
        "* Velocidad angular triaxial del giroscopio.\n",
        "\n",
        "* Su etiqueta de actividad.\n",
        "\n",
        "Para obtener el dataset, artículos publicados y más información, por favor dirigirse al siguiente [link](https://archive.ics.uci.edu/ml/datasets/human+activity+recognition+using+smartphones).\n",
        "\n"
      ]
    },
    {
      "cell_type": "markdown",
      "metadata": {
        "id": "PbQApV_ds6rV"
      },
      "source": [
        "## 2.1 Obtención, manipulación y exploración del conjunto de datos\n",
        "\n",
        "Con el link proporcionado arriba, haga click en Data Folders y luego en *UCI HAR Dataset.names* para obtener una guía acerca de la estructura de los directorios. Descargue, descomprima los datos y explore la estructura de los directorios (*UCI HAR Dataset.zip*).\n",
        "\n",
        "Para esta oportunidad solo nos centraremos en los datos que se encuentran en las carpetas *Inertial Signals*, para entrenamiento y pruebas."
      ]
    },
    {
      "cell_type": "markdown",
      "source": [
        "Descargaremos el archivo comprimido directamente de la [página web](https://archive.ics.uci.edu/static/public/240/human+activity+recognition+using+smartphones.zip\n",
        "):"
      ],
      "metadata": {
        "id": "9f_8Sdk6Q0Wa"
      }
    },
    {
      "cell_type": "code",
      "source": [
        "url = 'https://archive.ics.uci.edu/static/public/240/human+activity+recognition+using+smartphones.zip'\n",
        "request.urlretrieve(url, 'human+activity+recognition+using+smartphones.zip');"
      ],
      "metadata": {
        "id": "12qYCH_EQQvI"
      },
      "execution_count": 53,
      "outputs": []
    },
    {
      "cell_type": "code",
      "execution_count": 54,
      "metadata": {
        "colab": {
          "base_uri": "https://localhost:8080/"
        },
        "id": "_jC4c6P1YjdY",
        "outputId": "098549ed-393b-4d49-a344-34d297d08fee"
      },
      "outputs": [
        {
          "output_type": "stream",
          "name": "stdout",
          "text": [
            "Archive:  /content/human+activity+recognition+using+smartphones.zip\n",
            " extracting: UCI HAR Dataset.names   \n",
            " extracting: UCI HAR Dataset.zip     \n"
          ]
        }
      ],
      "source": [
        "!unzip /content/human+activity+recognition+using+smartphones.zip"
      ]
    },
    {
      "cell_type": "code",
      "execution_count": 55,
      "metadata": {
        "colab": {
          "base_uri": "https://localhost:8080/"
        },
        "id": "pWCx-zB8bApm",
        "outputId": "9c4f73b0-d5e8-44b0-d031-ed3b6812cbd7"
      },
      "outputs": [
        {
          "output_type": "stream",
          "name": "stdout",
          "text": [
            "Archive:  /content/UCI_HAR_Dataset.zip\n",
            "   creating: UCI HAR Dataset/\n",
            "  inflating: UCI HAR Dataset/.DS_Store  \n",
            "   creating: __MACOSX/\n",
            "   creating: __MACOSX/UCI HAR Dataset/\n",
            "  inflating: __MACOSX/UCI HAR Dataset/._.DS_Store  \n",
            "  inflating: UCI HAR Dataset/activity_labels.txt  \n",
            "  inflating: __MACOSX/UCI HAR Dataset/._activity_labels.txt  \n",
            "  inflating: UCI HAR Dataset/features.txt  \n",
            "  inflating: __MACOSX/UCI HAR Dataset/._features.txt  \n",
            "  inflating: UCI HAR Dataset/features_info.txt  \n",
            "  inflating: __MACOSX/UCI HAR Dataset/._features_info.txt  \n",
            "  inflating: UCI HAR Dataset/README.txt  \n",
            "  inflating: __MACOSX/UCI HAR Dataset/._README.txt  \n",
            "   creating: UCI HAR Dataset/test/\n",
            "   creating: UCI HAR Dataset/test/Inertial Signals/\n",
            "  inflating: UCI HAR Dataset/test/Inertial Signals/body_acc_x_test.txt  \n",
            "   creating: __MACOSX/UCI HAR Dataset/test/\n",
            "   creating: __MACOSX/UCI HAR Dataset/test/Inertial Signals/\n",
            "  inflating: __MACOSX/UCI HAR Dataset/test/Inertial Signals/._body_acc_x_test.txt  \n",
            "  inflating: UCI HAR Dataset/test/Inertial Signals/body_acc_y_test.txt  \n",
            "  inflating: __MACOSX/UCI HAR Dataset/test/Inertial Signals/._body_acc_y_test.txt  \n",
            "  inflating: UCI HAR Dataset/test/Inertial Signals/body_acc_z_test.txt  \n",
            "  inflating: __MACOSX/UCI HAR Dataset/test/Inertial Signals/._body_acc_z_test.txt  \n",
            "  inflating: UCI HAR Dataset/test/Inertial Signals/body_gyro_x_test.txt  \n",
            "  inflating: __MACOSX/UCI HAR Dataset/test/Inertial Signals/._body_gyro_x_test.txt  \n",
            "  inflating: UCI HAR Dataset/test/Inertial Signals/body_gyro_y_test.txt  \n",
            "  inflating: __MACOSX/UCI HAR Dataset/test/Inertial Signals/._body_gyro_y_test.txt  \n",
            "  inflating: UCI HAR Dataset/test/Inertial Signals/body_gyro_z_test.txt  \n",
            "  inflating: __MACOSX/UCI HAR Dataset/test/Inertial Signals/._body_gyro_z_test.txt  \n",
            "  inflating: UCI HAR Dataset/test/Inertial Signals/total_acc_x_test.txt  \n",
            "  inflating: __MACOSX/UCI HAR Dataset/test/Inertial Signals/._total_acc_x_test.txt  \n",
            "  inflating: UCI HAR Dataset/test/Inertial Signals/total_acc_y_test.txt  \n",
            "  inflating: __MACOSX/UCI HAR Dataset/test/Inertial Signals/._total_acc_y_test.txt  \n",
            "  inflating: UCI HAR Dataset/test/Inertial Signals/total_acc_z_test.txt  \n",
            "  inflating: __MACOSX/UCI HAR Dataset/test/Inertial Signals/._total_acc_z_test.txt  \n",
            "  inflating: __MACOSX/UCI HAR Dataset/test/._Inertial Signals  \n",
            "  inflating: UCI HAR Dataset/test/subject_test.txt  \n",
            "  inflating: __MACOSX/UCI HAR Dataset/test/._subject_test.txt  \n",
            "  inflating: UCI HAR Dataset/test/X_test.txt  \n",
            "  inflating: __MACOSX/UCI HAR Dataset/test/._X_test.txt  \n",
            "  inflating: UCI HAR Dataset/test/y_test.txt  \n",
            "  inflating: __MACOSX/UCI HAR Dataset/test/._y_test.txt  \n",
            "  inflating: __MACOSX/UCI HAR Dataset/._test  \n",
            "   creating: UCI HAR Dataset/train/\n",
            "   creating: UCI HAR Dataset/train/Inertial Signals/\n",
            "  inflating: UCI HAR Dataset/train/Inertial Signals/body_acc_x_train.txt  \n",
            "   creating: __MACOSX/UCI HAR Dataset/train/\n",
            "   creating: __MACOSX/UCI HAR Dataset/train/Inertial Signals/\n",
            "  inflating: __MACOSX/UCI HAR Dataset/train/Inertial Signals/._body_acc_x_train.txt  \n",
            "  inflating: UCI HAR Dataset/train/Inertial Signals/body_acc_y_train.txt  \n",
            "  inflating: __MACOSX/UCI HAR Dataset/train/Inertial Signals/._body_acc_y_train.txt  \n",
            "  inflating: UCI HAR Dataset/train/Inertial Signals/body_acc_z_train.txt  \n",
            "  inflating: __MACOSX/UCI HAR Dataset/train/Inertial Signals/._body_acc_z_train.txt  \n",
            "  inflating: UCI HAR Dataset/train/Inertial Signals/body_gyro_x_train.txt  \n",
            "  inflating: __MACOSX/UCI HAR Dataset/train/Inertial Signals/._body_gyro_x_train.txt  \n",
            "  inflating: UCI HAR Dataset/train/Inertial Signals/body_gyro_y_train.txt  \n",
            "  inflating: __MACOSX/UCI HAR Dataset/train/Inertial Signals/._body_gyro_y_train.txt  \n",
            "  inflating: UCI HAR Dataset/train/Inertial Signals/body_gyro_z_train.txt  \n",
            "  inflating: __MACOSX/UCI HAR Dataset/train/Inertial Signals/._body_gyro_z_train.txt  \n",
            "  inflating: UCI HAR Dataset/train/Inertial Signals/total_acc_x_train.txt  \n",
            "  inflating: __MACOSX/UCI HAR Dataset/train/Inertial Signals/._total_acc_x_train.txt  \n",
            "  inflating: UCI HAR Dataset/train/Inertial Signals/total_acc_y_train.txt  \n",
            "  inflating: __MACOSX/UCI HAR Dataset/train/Inertial Signals/._total_acc_y_train.txt  \n",
            "  inflating: UCI HAR Dataset/train/Inertial Signals/total_acc_z_train.txt  \n",
            "  inflating: __MACOSX/UCI HAR Dataset/train/Inertial Signals/._total_acc_z_train.txt  \n",
            "  inflating: __MACOSX/UCI HAR Dataset/train/._Inertial Signals  \n",
            "  inflating: UCI HAR Dataset/train/subject_train.txt  \n",
            "  inflating: __MACOSX/UCI HAR Dataset/train/._subject_train.txt  \n",
            "  inflating: UCI HAR Dataset/train/X_train.txt  \n",
            "  inflating: __MACOSX/UCI HAR Dataset/train/._X_train.txt  \n",
            "  inflating: UCI HAR Dataset/train/y_train.txt  \n",
            "  inflating: __MACOSX/UCI HAR Dataset/train/._y_train.txt  \n",
            "  inflating: __MACOSX/UCI HAR Dataset/._train  \n",
            "  inflating: __MACOSX/._UCI HAR Dataset  \n"
          ]
        }
      ],
      "source": [
        "os.rename(r\"/content/UCI HAR Dataset.zip\", r\"/content/UCI_HAR_Dataset.zip\")\n",
        "!unzip /content/UCI_HAR_Dataset.zip"
      ]
    },
    {
      "cell_type": "markdown",
      "metadata": {
        "id": "-0Bg_ZMkvpvy"
      },
      "source": [
        "### 2.1.1 Exploración del conjunto de datos\n",
        "\n",
        "Una vez comprendida la estructura de los directorios, asegurese de poder navegar por los archivos correctamente:\n",
        "\n",
        "> a) El código a continuación debe imprimir las rutas a todos los archivos del conjunto de datos que usted acaba de descargar. Ejemplo: /su ruta/UCI HAR Dataset/train/Inertial Signals/body_acc_z_train.txt"
      ]
    },
    {
      "cell_type": "code",
      "execution_count": 56,
      "metadata": {
        "colab": {
          "base_uri": "https://localhost:8080/"
        },
        "id": "qK-hkRBJEiEP",
        "outputId": "b4ecccfe-5ea2-463c-b366-195cf8651336"
      },
      "outputs": [
        {
          "output_type": "stream",
          "name": "stdout",
          "text": [
            "/content/UCI HAR Dataset/features_info.txt\n",
            "/content/UCI HAR Dataset/features.txt\n",
            "/content/UCI HAR Dataset/activity_labels.txt\n",
            "/content/UCI HAR Dataset/.DS_Store\n",
            "/content/UCI HAR Dataset/README.txt\n",
            "/content/UCI HAR Dataset/train/subject_train.txt\n",
            "/content/UCI HAR Dataset/train/y_train.txt\n",
            "/content/UCI HAR Dataset/train/X_train.txt\n",
            "/content/UCI HAR Dataset/train/Inertial Signals/body_gyro_z_train.txt\n",
            "/content/UCI HAR Dataset/train/Inertial Signals/total_acc_y_train.txt\n",
            "/content/UCI HAR Dataset/train/Inertial Signals/body_gyro_x_train.txt\n",
            "/content/UCI HAR Dataset/train/Inertial Signals/total_acc_z_train.txt\n",
            "/content/UCI HAR Dataset/train/Inertial Signals/total_acc_x_train.txt\n",
            "/content/UCI HAR Dataset/train/Inertial Signals/body_acc_x_train.txt\n",
            "/content/UCI HAR Dataset/train/Inertial Signals/body_acc_y_train.txt\n",
            "/content/UCI HAR Dataset/train/Inertial Signals/body_acc_z_train.txt\n",
            "/content/UCI HAR Dataset/train/Inertial Signals/body_gyro_y_train.txt\n",
            "/content/UCI HAR Dataset/test/X_test.txt\n",
            "/content/UCI HAR Dataset/test/y_test.txt\n",
            "/content/UCI HAR Dataset/test/subject_test.txt\n",
            "/content/UCI HAR Dataset/test/Inertial Signals/body_acc_z_test.txt\n",
            "/content/UCI HAR Dataset/test/Inertial Signals/body_gyro_y_test.txt\n",
            "/content/UCI HAR Dataset/test/Inertial Signals/body_acc_y_test.txt\n",
            "/content/UCI HAR Dataset/test/Inertial Signals/body_gyro_x_test.txt\n",
            "/content/UCI HAR Dataset/test/Inertial Signals/total_acc_y_test.txt\n",
            "/content/UCI HAR Dataset/test/Inertial Signals/total_acc_z_test.txt\n",
            "/content/UCI HAR Dataset/test/Inertial Signals/total_acc_x_test.txt\n",
            "/content/UCI HAR Dataset/test/Inertial Signals/body_acc_x_test.txt\n",
            "/content/UCI HAR Dataset/test/Inertial Signals/body_gyro_z_test.txt\n"
          ]
        }
      ],
      "source": [
        "for dirname, _, filenames in os.walk('/content/UCI HAR Dataset'):\n",
        "    for filename in filenames:\n",
        "        print(os.path.join(dirname, filename))"
      ]
    },
    {
      "cell_type": "code",
      "execution_count": 57,
      "metadata": {
        "id": "eREpRAkMIh06"
      },
      "outputs": [],
      "source": [
        "LABELS = ['WALKING', 'WALKING_UPSTAIRS', 'WALKING_DOWNSTAIRS', 'SITTING', 'STANDING', 'LAYING']\n",
        "SIGNALS = [\"body_acc_x_\", \"body_acc_y_\", \"body_acc_z_\",\n",
        "           \"body_gyro_x_\", \"body_gyro_y_\", \"body_gyro_z_\",\n",
        "           \"total_acc_x_\", \"total_acc_y_\", \"total_acc_z_\"]"
      ]
    },
    {
      "cell_type": "markdown",
      "metadata": {
        "id": "gV3t_zAMyTIZ"
      },
      "source": [
        "> b) Obtenga la ruta exacta de los archivos e insertelos en una lista (entrenamiento y prueba ). El código a continuación es solo una sugerencia, usted puede optimizar y modificarlo."
      ]
    },
    {
      "cell_type": "code",
      "execution_count": 58,
      "metadata": {
        "id": "seHdXXlTIlB_"
      },
      "outputs": [],
      "source": [
        "train_paths = [f'/content/UCI HAR Dataset/train/Inertial Signals/{signal}train.txt' for signal in SIGNALS]\n",
        "test_paths = [f'/content/UCI HAR Dataset/test/Inertial Signals/{signal}test.txt' for signal in SIGNALS]"
      ]
    },
    {
      "cell_type": "code",
      "source": [
        "print(*test_paths, sep = '\\n')"
      ],
      "metadata": {
        "colab": {
          "base_uri": "https://localhost:8080/"
        },
        "id": "vdRAwSVHTwkX",
        "outputId": "a0d6fe7a-e889-46ee-92e3-688bc7eb2575"
      },
      "execution_count": 59,
      "outputs": [
        {
          "output_type": "stream",
          "name": "stdout",
          "text": [
            "/content/UCI HAR Dataset/test/Inertial Signals/body_acc_x_test.txt\n",
            "/content/UCI HAR Dataset/test/Inertial Signals/body_acc_y_test.txt\n",
            "/content/UCI HAR Dataset/test/Inertial Signals/body_acc_z_test.txt\n",
            "/content/UCI HAR Dataset/test/Inertial Signals/body_gyro_x_test.txt\n",
            "/content/UCI HAR Dataset/test/Inertial Signals/body_gyro_y_test.txt\n",
            "/content/UCI HAR Dataset/test/Inertial Signals/body_gyro_z_test.txt\n",
            "/content/UCI HAR Dataset/test/Inertial Signals/total_acc_x_test.txt\n",
            "/content/UCI HAR Dataset/test/Inertial Signals/total_acc_y_test.txt\n",
            "/content/UCI HAR Dataset/test/Inertial Signals/total_acc_z_test.txt\n"
          ]
        }
      ]
    },
    {
      "cell_type": "markdown",
      "metadata": {
        "id": "D-XeCXTPy_0I"
      },
      "source": [
        "> c) Cree una función __load_X que reciba una lista de rutas como alguna de las anteriormente creadas, y retorne un arreglo de numpy con las siguientes dimensiones (n_samples, signal_len, sensor) donde:\n",
        "* n_samples: es el tamaño de la muestra, o sea, el total de experimentos.\n",
        "* signal_len: es el largo de la señal de los sensores.\n",
        "* sensor: es el sensor o el eje del sensor el cual registra la señal, por ejemplo acelerómetro en el eje $y$."
      ]
    },
    {
      "cell_type": "code",
      "source": [
        "def __load_X(X_signal_paths):\n",
        "  return np.stack([np.loadtxt(path) for path in X_signal_paths], axis = 2)"
      ],
      "metadata": {
        "id": "DGc2oyKyU5va"
      },
      "execution_count": 60,
      "outputs": []
    },
    {
      "cell_type": "code",
      "execution_count": 61,
      "metadata": {
        "id": "rW8ZWBcmI9YX"
      },
      "outputs": [],
      "source": [
        "x_train = __load_X(train_paths)\n",
        "x_test = __load_X(test_paths)"
      ]
    },
    {
      "cell_type": "markdown",
      "metadata": {
        "id": "uw_PBgBN1I6J"
      },
      "source": [
        "> d) Cargue las clases del conjunto de entrenamiento y pruebas en arreglos numpy."
      ]
    },
    {
      "cell_type": "code",
      "execution_count": 62,
      "metadata": {
        "id": "Gb0t2nELJEC7"
      },
      "outputs": [],
      "source": [
        "y_train = np.loadtxt('/content/UCI HAR Dataset/train/y_train.txt',  dtype=np.int32)\n",
        "y_test = np.loadtxt('/content/UCI HAR Dataset/test/y_test.txt', dtype=np.int32)"
      ]
    },
    {
      "cell_type": "markdown",
      "metadata": {
        "id": "pc1PFOmo2OUx"
      },
      "source": [
        "### 2.1.2 Análisis del conjunto de datos\n",
        "\n",
        "Responda las siguientes preguntas:\n",
        "\n",
        "> a) ¿Cuántos experimentos le quedan en el conjunto de entrenamiento y en el de test?"
      ]
    },
    {
      "cell_type": "code",
      "source": [
        "print(f'En el conjunto de entrenamiento quedaron: {x_train.shape[0]} experimentos.')\n",
        "print(f'Mientras que en el conj. de test quedan: {x_test.shape[0]} experimentos.')"
      ],
      "metadata": {
        "colab": {
          "base_uri": "https://localhost:8080/"
        },
        "id": "G91BpDLDkoCe",
        "outputId": "6bfad7b4-5410-4484-993d-2e0400398055"
      },
      "execution_count": 63,
      "outputs": [
        {
          "output_type": "stream",
          "name": "stdout",
          "text": [
            "En el conjunto de entrenamiento quedaron: 7352 experimentos.\n",
            "Mientras que en el conj. de test quedan: 2947 experimentos.\n"
          ]
        }
      ]
    },
    {
      "cell_type": "markdown",
      "source": [
        "> b) ¿Qué valores obtiene para las dimensiones recién definidas (n_samples, signal_len, sensor)?\n",
        "\n",
        "Obtenemos los siguientes valores:"
      ],
      "metadata": {
        "id": "mZCrtxVTkmhT"
      }
    },
    {
      "cell_type": "code",
      "source": [
        "print(f'Conjunto de entrenamiento: {x_train.shape}')\n",
        "print(f'Conjunto de prueba: {x_test.shape}')"
      ],
      "metadata": {
        "colab": {
          "base_uri": "https://localhost:8080/"
        },
        "id": "SnTKKvLwlK5q",
        "outputId": "a8c3f8a5-2770-4f25-985b-acef60e63e09"
      },
      "execution_count": 65,
      "outputs": [
        {
          "output_type": "stream",
          "name": "stdout",
          "text": [
            "Conjunto de entrenamiento: (7352, 128, 9)\n",
            "Conjunto de prueba: (2947, 128, 9)\n"
          ]
        }
      ]
    },
    {
      "cell_type": "markdown",
      "source": [
        "\n",
        "> c) Considerando todo lo que usted ha aprendido en este curso y en las tareas anteriores, ¿Qué puede decir de los atributos de este conjunto de datos?. Obtenga estadísticas descriptivas y sintetice brevemente con sus propias palabras lo que observe, apoyándose de gráficos como histográmas, boxplots heatmaps de correlación, etc.\n",
        "\n",
        "**RESPUESTA**\n",
        "\n",
        "---\n",
        "---\n",
        "---"
      ],
      "metadata": {
        "id": "hk6s7s8flJth"
      }
    },
    {
      "cell_type": "markdown",
      "source": [
        "\n",
        "> d) Si quisiera entrenar una red neuronal feedforward con este conjunto de datos, ¿cómo deben representarse las dimensiones de cada experimento (sample) para que sirvan de entrada para este tipo de red?\n",
        "\n",
        "Cada experimento debe estar representado como un vector unidimensional.\n",
        "\n",
        "> e) Modifique las dimensiones de los atributos para luego entrenar una red neuronal feedforward."
      ],
      "metadata": {
        "id": "_CvvfDhQlgjE"
      }
    },
    {
      "cell_type": "code",
      "execution_count": 66,
      "metadata": {
        "id": "OvTNRfU-KDxO"
      },
      "outputs": [],
      "source": [
        "x_train = x_train.reshape((x_train.shape[0], x_train.shape[1] * x_train.shape[2]))\n",
        "x_test = x_test.reshape((x_test.shape[0], x_test.shape[1] * x_test.shape[2]))"
      ]
    },
    {
      "cell_type": "markdown",
      "metadata": {
        "id": "NnHLIZLCGJ7z"
      },
      "source": [
        "> f) ¿Cómo quedó cada atributo ahora que modificó sus dimensiones?"
      ]
    },
    {
      "cell_type": "markdown",
      "source": [
        "***RESPUESTA***\n",
        "\n",
        "---\n",
        "---\n",
        "---"
      ],
      "metadata": {
        "id": "8f3T5VfcTmhO"
      }
    },
    {
      "cell_type": "code",
      "source": [
        "x_train.shape"
      ],
      "metadata": {
        "colab": {
          "base_uri": "https://localhost:8080/"
        },
        "id": "nLTKvXOAe6sU",
        "outputId": "cc695730-c291-4027-b198-505760e09e23"
      },
      "execution_count": 67,
      "outputs": [
        {
          "output_type": "execute_result",
          "data": {
            "text/plain": [
              "(7352, 1152)"
            ]
          },
          "metadata": {},
          "execution_count": 67
        }
      ]
    },
    {
      "cell_type": "code",
      "source": [
        "x_test.shape"
      ],
      "metadata": {
        "colab": {
          "base_uri": "https://localhost:8080/"
        },
        "id": "yCb2O4GHTsBg",
        "outputId": "c4bcef92-da00-4380-e009-30aee29258c5"
      },
      "execution_count": 68,
      "outputs": [
        {
          "output_type": "execute_result",
          "data": {
            "text/plain": [
              "(2947, 1152)"
            ]
          },
          "metadata": {},
          "execution_count": 68
        }
      ]
    },
    {
      "cell_type": "markdown",
      "metadata": {
        "id": "t24ihaodFuSk"
      },
      "source": [
        "### 2.1.3 Procesamiento del conjunto de datos\n",
        "\n",
        "> a)Transforme las clases a One Hot Encoder"
      ]
    },
    {
      "cell_type": "code",
      "execution_count": 72,
      "metadata": {
        "colab": {
          "base_uri": "https://localhost:8080/"
        },
        "id": "OA9KM95lNAmk",
        "outputId": "6b839546-b04c-46b5-e47b-71b19a8f5893"
      },
      "outputs": [
        {
          "output_type": "stream",
          "name": "stdout",
          "text": [
            "Original Labels:\n",
            "(7352,)\n",
            "\n",
            "One-Hot Encoded Labels:\n",
            "(7352, 6)\n"
          ]
        }
      ],
      "source": [
        "onehot_encoder = OneHotEncoder(sparse_output=False)\n",
        "\n",
        "y_train_OHE = onehot_encoder.fit_transform(y_train.reshape(len(y_train), 1))\n",
        "y_test_OHE = onehot_encoder.transform(y_test.reshape(len(y_test), 1))\n",
        "\n",
        "# Print the original labels and the one-hot encoded labels\n",
        "print(\"Original Labels:\")\n",
        "print(y_train.shape)\n",
        "print(\"\\nOne-Hot Encoded Labels:\")\n",
        "print(y_train_OHE.shape)"
      ]
    },
    {
      "cell_type": "code",
      "execution_count": null,
      "metadata": {
        "id": "cPN-BmgKSNS1",
        "colab": {
          "base_uri": "https://localhost:8080/",
          "height": 36
        },
        "outputId": "b63111a6-156d-4416-9630-ac03a8296ffe"
      },
      "outputs": [
        {
          "output_type": "execute_result",
          "data": {
            "text/plain": [
              "'SITTING'"
            ],
            "application/vnd.google.colaboratory.intrinsic+json": {
              "type": "string"
            }
          },
          "metadata": {},
          "execution_count": 86
        }
      ],
      "source": [
        "LABELS[np.argmax(y_train_OHE[400])]"
      ]
    },
    {
      "cell_type": "markdown",
      "metadata": {
        "id": "DLA0RcqYfveg"
      },
      "source": [
        "> b) ¿Estan bien balanceadas las clases?\n",
        "\n",
        "\n",
        "Grafiquemos la distribución de las clases en la variable target:"
      ]
    },
    {
      "cell_type": "code",
      "source": [
        "distribucion_clases = np.unique(y_train, return_counts=True)[1]\n",
        "\n",
        "media = np.mean(distribucion_clases)\n",
        "desviacion_estandar = np.std(distribucion_clases)\n",
        "\n",
        "print(\"Media:\", media)\n",
        "print(\"Desviación estándar:\", desviacion_estandar)"
      ],
      "metadata": {
        "colab": {
          "base_uri": "https://localhost:8080/"
        },
        "id": "grxPqGCFddip",
        "outputId": "ae88b027-fdcf-4e91-b03a-4b8226388e45"
      },
      "execution_count": 96,
      "outputs": [
        {
          "output_type": "stream",
          "name": "stdout",
          "text": [
            "Media: 1225.3333333333333\n",
            "Desviación estándar: 152.35448430843408\n"
          ]
        }
      ]
    },
    {
      "cell_type": "code",
      "source": [
        "np.max(distribucion_clases) - np.min(distribucion_clases)"
      ],
      "metadata": {
        "colab": {
          "base_uri": "https://localhost:8080/"
        },
        "id": "PSgN_a9Od5n5",
        "outputId": "ca87eb10-cbab-41c3-9245-a2b951a1fb7a"
      },
      "execution_count": 97,
      "outputs": [
        {
          "output_type": "execute_result",
          "data": {
            "text/plain": [
              "421"
            ]
          },
          "metadata": {},
          "execution_count": 97
        }
      ]
    },
    {
      "cell_type": "code",
      "source": [
        "plt.figure(figsize = (6,5))\n",
        "plt.bar(LABELS, np.unique(y_train, return_counts=True)[1])\n",
        "plt.xticks(rotation=90);"
      ],
      "metadata": {
        "colab": {
          "base_uri": "https://localhost:8080/",
          "height": 596
        },
        "id": "PN15OFhtUSC4",
        "outputId": "751e0f83-64ea-4ed8-8fb6-786bbe636ab4"
      },
      "execution_count": 91,
      "outputs": [
        {
          "output_type": "display_data",
          "data": {
            "text/plain": [
              "<Figure size 600x500 with 1 Axes>"
            ],
            "image/png": "[encoded data removed]"
          },
          "metadata": {}
        }
      ]
    },
    {
      "cell_type": "markdown",
      "source": [],
      "metadata": {
        "id": "nfQXfik5dJSu"
      }
    },
    {
      "cell_type": "markdown",
      "metadata": {
        "id": "X9B4CW50G25Y"
      },
      "source": [
        "> c) Estandarice los atributos con media 0 y variaza 1."
      ]
    },
    {
      "cell_type": "code",
      "execution_count": 101,
      "metadata": {
        "id": "OSxBl1AlSlsL"
      },
      "outputs": [],
      "source": [
        "scaler = StandardScaler()\n",
        "\n",
        "# Apply the scaler to transform the training data\n",
        "x_train = scaler.fit_transform(x_train)\n",
        "x_test = scaler.transform(x_test)"
      ]
    },
    {
      "cell_type": "markdown",
      "metadata": {
        "id": "71HaVDffHEFs"
      },
      "source": [
        "## 2.2 Modelos de clasificación"
      ]
    },
    {
      "cell_type": "markdown",
      "metadata": {
        "id": "oAPZSuZvHbq-"
      },
      "source": [
        "### 2.2.1 Redes Neuronales\n",
        "\n",
        "> a) ¿Cómo se entrena una red neuronal feedforward?\n",
        "\n",
        "***RESPUESTA***\n",
        "\n",
        "---\n",
        "---\n",
        "---\n",
        "\n",
        "> b) ¿Qué es una neurona en este contexto?\n",
        "\n",
        "Una neurona en el contexto de las redes neuronales es una unidad de procesamiento básica que realiza operaciones matemáticas en los datos de entrada para generar una salida utilizando pesos, un sesgo y una función de activación.\n",
        "\n",
        "> c) ¿Qué es una función de activación y para que sirven?\n",
        "\n",
        "Es una función aplicada a la salida de una neurona en una red neuronal, las más comunes son: lineal, sigmoid, ReLU, softmax, etc. Sirven para introducir no linealidad en la red y permiten modelar relaciones más complejas en los datos. Ayudan a determinar la salida de una neurona, facilitan el aprendizaje y la capacidad de generalización de la red neuronal.\n",
        "\n",
        "> d) ¿A qué se le llama capa densa?\n",
        "\n",
        "Es un tipo de capa en la que cada neurona está conectada a todas las neuronas de la capa anterior.\n",
        "\n",
        "> e) Si usted conoce la dimensión entrada, la de salida, la cantidad de capas y neuronas de cada capa, ¿cómo se calcula la cantidad de pesos de la red?\n",
        "\n",
        "La cantidad de pesos es igual a la cantidad de conexiones entre capas (agregando como nodo al _bias_), si consideramos que las capas son densas, la cantidad de conexiones entre dos capas es igual al producto de la cantidad de nodos de cada una, generalizando la idea tenemos que el total de pesos vienen dados por:\n",
        "\n",
        "$$\\# pesos = (N_e + 1)N_1 + \\sum_{i  = 1}^{CO - 1} (N_i+1)N_{i+1} + (N_{CO}+1)N_s, \\quad \\text{si}~~ CO \\geq 1$$\n",
        "$$\\# pesos = (N_e + 1)N_s,\\quad \\text{si}~~ CO = 0$$\n",
        "Donde $N_i$ es la cantidad de neuronas de la $i$-ésima capa oculta, $N_e$ es la dimensión de entrada, $N_s$ la dimensión de salida y $CO$ la cantidad de capas ocultas. (Obs: Sumamos uno en el primer término de los productos, pues consideramos los _bias_)\n",
        "\n",
        "> f) ¿A qué se refiere el fenómeno de gradiente desvaneciente?, ¿y el gradiente explosivo?\n",
        "\n",
        "***RESPUESTA***\n",
        "\n",
        "---\n",
        "---\n",
        "---\n",
        "\n",
        "> g) Para esta tarea, como debería ser la capa de salida de la red considerando que previamente aplicó una transformación One Hot Encoding a las clases del conjunto?\n",
        "\n",
        "Debería ser una capa de 6 neuronas, cada una con la probabilidad de pertenecer a la clase, como el modelo es multiclase lo recomendado es usar _softmax_ como función de activación en la capa de salida.\n",
        "\n",
        "> h) Considere que la capa de entrada se llama \"input_layer\",  a la capa de salida le llamaremos \"output_layer\" y a las capas intermedias \"hidden_layer(_units_, _activation_)\" donde los parametros significan el numero de neuronas que tiene esa capa densa (Dense en Keras) y su activación. Cree las siguientes redes neuronales:\n",
        "\n",
        "* input_layer -> output_layer\n",
        "\n",
        "* input_layer -> hidden_layer(32, tanh) -> output_layer\n",
        "\n",
        "* input_layer -> hidden_layer(32, sigmoid) -> output_layer\n",
        "\n",
        "* input_layer -> hidden_layer(32, relu) -> output_layer"
      ]
    },
    {
      "cell_type": "code",
      "source": [
        "numero_de_entradas = x_train.shape[1]\n",
        "numero_de_salidas = 6\n",
        "\n",
        "modelos = [\n",
        "    Sequential([Input(shape = (numero_de_entradas)),\n",
        "                Dense(units=numero_de_salidas, activation='softmax')],\n",
        "               name = 'Sin_capa_oculta'),\n",
        "    Sequential([Input(shape = (numero_de_entradas)),\n",
        "                Dense(units=32, activation='tanh'),\n",
        "                Dense(units=numero_de_salidas, activation='softmax')],\n",
        "               name = 'Modelo_tanh'),\n",
        "    Sequential([Input(shape = (numero_de_entradas)),\n",
        "                Dense(units=32, activation='sigmoid'),\n",
        "                Dense(units=numero_de_salidas, activation='softmax')],\n",
        "               name = 'Modelo_sigmoid'),\n",
        "    Sequential([Input(shape = (numero_de_entradas)),\n",
        "                Dense(units=32, activation='relu'),\n",
        "                Dense(units=numero_de_salidas, activation='softmax')],\n",
        "               name = 'Modelo_relu')\n",
        "]"
      ],
      "metadata": {
        "id": "ZFl7jlYcObT2"
      },
      "execution_count": 201,
      "outputs": []
    },
    {
      "cell_type": "markdown",
      "source": [
        "> i) Una vez creado el modelo, imprima el sumario (modelo.summary()) y compare los resultados obtenidos con su razonamiento explicado en la pregunta e)."
      ],
      "metadata": {
        "id": "jF26qbOH1SYW"
      }
    },
    {
      "cell_type": "code",
      "execution_count": 202,
      "metadata": {
        "id": "PXjL3NxKU0Qd",
        "colab": {
          "base_uri": "https://localhost:8080/"
        },
        "outputId": "b1a87754-56e1-4339-fcd7-798004196b40"
      },
      "outputs": [
        {
          "output_type": "stream",
          "name": "stdout",
          "text": [
            "Model: \"Sin_capa_oculta\"\n",
            "_________________________________________________________________\n",
            " Layer (type)                Output Shape              Param #   \n",
            "=================================================================\n",
            " dense_73 (Dense)            (None, 6)                 6918      \n",
            "                                                                 \n",
            "=================================================================\n",
            "Total params: 6,918\n",
            "Trainable params: 6,918\n",
            "Non-trainable params: 0\n",
            "_________________________________________________________________\n",
            "\n",
            "\n",
            "Model: \"Modelo_tanh\"\n",
            "_________________________________________________________________\n",
            " Layer (type)                Output Shape              Param #   \n",
            "=================================================================\n",
            " dense_74 (Dense)            (None, 32)                36896     \n",
            "                                                                 \n",
            " dense_75 (Dense)            (None, 6)                 198       \n",
            "                                                                 \n",
            "=================================================================\n",
            "Total params: 37,094\n",
            "Trainable params: 37,094\n",
            "Non-trainable params: 0\n",
            "_________________________________________________________________\n",
            "\n",
            "\n",
            "Model: \"Modelo_sigmoid\"\n",
            "_________________________________________________________________\n",
            " Layer (type)                Output Shape              Param #   \n",
            "=================================================================\n",
            " dense_76 (Dense)            (None, 32)                36896     \n",
            "                                                                 \n",
            " dense_77 (Dense)            (None, 6)                 198       \n",
            "                                                                 \n",
            "=================================================================\n",
            "Total params: 37,094\n",
            "Trainable params: 37,094\n",
            "Non-trainable params: 0\n",
            "_________________________________________________________________\n",
            "\n",
            "\n",
            "Model: \"Modelo_relu\"\n",
            "_________________________________________________________________\n",
            " Layer (type)                Output Shape              Param #   \n",
            "=================================================================\n",
            " dense_78 (Dense)            (None, 32)                36896     \n",
            "                                                                 \n",
            " dense_79 (Dense)            (None, 6)                 198       \n",
            "                                                                 \n",
            "=================================================================\n",
            "Total params: 37,094\n",
            "Trainable params: 37,094\n",
            "Non-trainable params: 0\n",
            "_________________________________________________________________\n",
            "\n",
            "\n"
          ]
        }
      ],
      "source": [
        "for modelo in modelos:\n",
        "  modelo.summary()\n",
        "  print(\"\\n\")"
      ]
    },
    {
      "cell_type": "markdown",
      "source": [
        "Calculemos la cantidad de pesos según la fórmula entregada en e)."
      ],
      "metadata": {
        "id": "Q2B5SyeQ1aTv"
      }
    },
    {
      "cell_type": "code",
      "source": [
        "N_e = x_train.shape[1] #dimension entrada\n",
        "N_s = 6 #dimension salida\n",
        "\n",
        "def cant_pesos(N_e, N_s, CO=0, Nodos_capas_ocultas=[]):\n",
        "  # Cantidad de pesos con capas ocultas densas\n",
        "  if CO == 0:\n",
        "    return (N_e+1)*N_s\n",
        "  pesos_c = (N_e+1) * N[0]\n",
        "  for i in range(CO-1):\n",
        "    pesos_c += (N[i] + 1 ) * N[i+1]\n",
        "  pesos_c += (N[-1] + 1) * N_s\n",
        "  return pesos_c\n",
        "\n",
        "pesos_sin = cant_pesos(N_e,N_s)\n",
        "pesos_con = cant_pesos(N_e,N_s,1,[32])\n",
        "\n",
        "print(f'Cantidad de pesos:\\n\\tModelo sin capa oculta: {pesos_sin:,}\\n\\tModelo con una capa oculta: {pesos_con:,}')"
      ],
      "metadata": {
        "colab": {
          "base_uri": "https://localhost:8080/"
        },
        "id": "YX2N6PZGydNn",
        "outputId": "11e6fb76-bfe8-41d8-f8d4-357cd7bd6514"
      },
      "execution_count": 203,
      "outputs": [
        {
          "output_type": "stream",
          "name": "stdout",
          "text": [
            "Cantidad de pesos:\n",
            "\tModelo sin capa oculta: 6,918\n",
            "\tModelo con una capa oculta: 37,094\n"
          ]
        }
      ]
    },
    {
      "cell_type": "markdown",
      "source": [
        "Note que obtuvimos la misma cantidad de pesos."
      ],
      "metadata": {
        "id": "rCxCpMEh3m0R"
      }
    },
    {
      "cell_type": "markdown",
      "source": [
        " > j) Defina un callback de Early Stopping para evitar un sobre ajuste de la red basandose en sus respuestas a las siguientes preguntas:\n",
        "\n",
        "* ¿Qué es lo que se debería monitorear para evitar el sobre ajuste en esta red?\n",
        "\n",
        "Para evitar el sobreajuste en esta red, se debería monitorear el rendimiento del modelo en un conjunto de datos de validación durante el entrenamiento. El objetivo es detectar cuándo el rendimiento en el conjunto de validación comienza a empeorar o deja de mejorar significativamente, lo que indica que el modelo está sobreajustando los datos de entrenamiento.\n",
        "\n",
        "* ¿Qué es la paciencia en este contexto?\n",
        "\n",
        "La paciencia en este contexto se refiere al número de epochs que se permite que el rendimiento en el conjunto de validación empeore o se estanque antes de detener el entrenamiento. Si el rendimiento en el conjunto de validación no mejora después de un número determinado de epochs definido por la paciencia, se detiene el entrenamiento para evitar un sobreajuste adicional.\n",
        "\n",
        "* ¿Para qué se usa el parámetro min_delta?\n",
        "\n",
        "El parámetro min_delta se usa para definir la mínima mejora requerida en el rendimiento en el conjunto de validación para considerar que hay una mejora significativa. Si la mejora en el rendimiento es menor que el valor de min_delta, no se considera una mejora real y puede detenerse el entrenamiento incluso si la paciencia no se ha agotado."
      ],
      "metadata": {
        "id": "xSqjYP1GNpQS"
      }
    },
    {
      "cell_type": "code",
      "source": [
        "early_stop = EarlyStopping(monitor='val_categorical_accuracy',\n",
        "                           mode='max',\n",
        "                           verbose=0,\n",
        "                           patience=50\n",
        "                           )"
      ],
      "metadata": {
        "id": "o3BsgilBNumK"
      },
      "execution_count": 208,
      "outputs": []
    },
    {
      "cell_type": "markdown",
      "metadata": {
        "id": "65makHJ-R-Ri"
      },
      "source": [
        "> k) Compile el modelo usando como optimizador el gradiente descendente estocástico, utilice la métrica \"categorical_accuracy\" y responda lo siguiente:\n",
        "\n",
        "* ¿Qúe función de pérdida se debe usar para este problema (loss)?\n",
        "\n",
        "Para este problema, que implica la clasificación de múltiples clases, se debe utilizar la función de pérdida \"categorical_crossentropy\". Esta función de pérdida es comúnmente utilizada en problemas de clasificación multiclase y es adecuada para modelos que generan salidas en forma de distribuciones de probabilidad para cada clase.\n",
        "\n",
        "**Nota:** Si bien en un mundo ideal donde hay tiempo y recursos para explorar un subconjunto del espacio de hipótesis lo suficientemente amplio como para cubrir todas las posibles combinaciones de hiperparámetros, en esta tarea solo se explorarán algunos."
      ]
    },
    {
      "cell_type": "code",
      "execution_count": 209,
      "metadata": {
        "id": "H1X90GcGdUhG"
      },
      "outputs": [],
      "source": [
        "# Compilamos los modelos\n",
        "for modelo in modelos:\n",
        "    modelo.compile(optimizer='sgd',\n",
        "                   loss='categorical_crossentropy',\n",
        "                   metrics=['categorical_accuracy']\n",
        "                   )"
      ]
    },
    {
      "cell_type": "markdown",
      "metadata": {
        "id": "QFnrOI-TZNpY"
      },
      "source": [
        "> l) Entrene el modelo utilizando el callback definido en la pregunta anterior con 100 epochs, un batch_size=256, y validation split=0.1.\n",
        "\n",
        "* ¿Qué significa el batch_size?\n",
        "\n",
        "Es la cantidad de muestras de entrenamiento que se utilizan en cada paso de actualización de los pesos del modelo.\n",
        "\n",
        "**Nota:** Por favor recuerde ocultar el output del entrenamiento!! Mantenga el orden de su tarea y justifique de forma óptima sus resultados."
      ]
    },
    {
      "cell_type": "code",
      "source": [
        "for modelo in modelos:\n",
        "  modelo.fit(x_train, y_train_OHE,\n",
        "             epochs=100,\n",
        "             batch_size=256,\n",
        "             validation_split = 0.1,\n",
        "             callbacks=[early_stop],\n",
        "             verbose = 0\n",
        "             )"
      ],
      "metadata": {
        "id": "najTcZrHNFMD"
      },
      "execution_count": 210,
      "outputs": []
    },
    {
      "cell_type": "markdown",
      "metadata": {
        "id": "wqse2x-GazGT"
      },
      "source": [
        "> m) Escoja el mejor modelo según la función de activación y puntuación obtenida en el conjunto de validación y pruebe con los siguientes modelos:\n",
        "\n",
        "* input_layer -> hidden_layer(64, best_activ) -> hidden_layer(32, best_activ) -> output_layer\n",
        "\n",
        "* input_layer -> hidden_layer(128, best_activ) -> hidden_layer(64, best_activ) -> hidden_layer(32, best_activ) -> output_layer\n",
        "\n",
        "* input_layer -> hidden_layer(256, best_activ) -> hidden_layer(128, best_activ) -> hidden_layer(64, best_activ) -> hidden_layer(32, best_activ) -> output_layer"
      ]
    },
    {
      "cell_type": "markdown",
      "source": [
        "Escojamos el mejor modelo según la métrica utilizada:"
      ],
      "metadata": {
        "id": "K4F3qbgYW-ug"
      }
    },
    {
      "cell_type": "code",
      "source": [
        "modelos[1].evaluate(x_test, y_test_OHE, verbose = 1)"
      ],
      "metadata": {
        "colab": {
          "base_uri": "https://localhost:8080/"
        },
        "id": "_dTpQV1PaC98",
        "outputId": "2b412090-753b-4d6a-f844-d02396a8e543"
      },
      "execution_count": 222,
      "outputs": [
        {
          "output_type": "stream",
          "name": "stdout",
          "text": [
            "93/93 [==============================] - 0s 3ms/step - loss: 0.5385 - categorical_accuracy: 0.8388\n"
          ]
        },
        {
          "output_type": "execute_result",
          "data": {
            "text/plain": [
              "[0.5385098457336426, 0.838819146156311]"
            ]
          },
          "metadata": {},
          "execution_count": 222
        }
      ]
    },
    {
      "cell_type": "code",
      "source": [
        "for modelo in modelos:\n",
        "    loss, accuracy = modelo.evaluate(x_test, y_test_OHE, verbose = 0)\n",
        "    print(f\"Modelo = {modelo.name}, {accuracy=:.3f}\\n\")"
      ],
      "metadata": {
        "colab": {
          "base_uri": "https://localhost:8080/"
        },
        "id": "2FzEWqlEW9ho",
        "outputId": "251b93ab-7013-4303-f720-7af68248e39c"
      },
      "execution_count": 217,
      "outputs": [
        {
          "output_type": "stream",
          "name": "stdout",
          "text": [
            "Modelo = Sin_capa_oculta, accuracy=0.566\n",
            "\n",
            "Modelo = Modelo_tanh, accuracy=0.839\n",
            "\n",
            "Modelo = Modelo_sigmoid, accuracy=0.811\n",
            "\n",
            "Modelo = Modelo_relu, accuracy=0.874\n",
            "\n"
          ]
        }
      ]
    },
    {
      "cell_type": "markdown",
      "source": [
        "En base al resultado anterior, tenemos que la mejor función de activación es la 'ReLU'. Creemos las redes usando esta función de activación:"
      ],
      "metadata": {
        "id": "BtEpVrIxXeOZ"
      }
    },
    {
      "cell_type": "code",
      "execution_count": 219,
      "metadata": {
        "id": "buwW4LGtb5gC"
      },
      "outputs": [],
      "source": [
        "numero_de_entradas = x_train.shape[1]\n",
        "numero_de_salidas = 6\n",
        "\n",
        "NNs = [\n",
        "    Sequential([Input(shape = (numero_de_entradas)),\n",
        "                Dense(units=64, activation='relu'),\n",
        "                Dense(units=32, activation='relu'),\n",
        "                Dense(units=numero_de_salidas, activation='softmax')],\n",
        "               name = 'NN_1'),\n",
        "    Sequential([Input(shape = (numero_de_entradas)),\n",
        "                Dense(units=128, activation='relu'),\n",
        "                Dense(units=64, activation='relu'),\n",
        "                Dense(units=32, activation='relu'),\n",
        "                Dense(units=numero_de_salidas, activation='softmax')],\n",
        "               name = 'NN_2'),\n",
        "    Sequential([Input(shape = (numero_de_entradas)),\n",
        "                Dense(units=256, activation='relu'),\n",
        "                Dense(units=128, activation='relu'),\n",
        "                Dense(units=64, activation='relu'),\n",
        "                Dense(units=32, activation='relu'),\n",
        "                Dense(units=numero_de_salidas, activation='softmax')],\n",
        "               name = 'NN_3')\n",
        "]"
      ]
    },
    {
      "cell_type": "markdown",
      "metadata": {
        "id": "WyFCM8N7b82n"
      },
      "source": [
        ">n) Imprima las curvas de error y accuracy del conjunto de entrenamiento y de validación para observar como se comporta el _aprendizaje_ de sus modelos."
      ]
    },
    {
      "cell_type": "code",
      "source": [
        "for NN in NNs:\n",
        "  NN.compile(optimizer='sgd',\n",
        "             loss='categorical_crossentropy',\n",
        "             metrics = ['accuracy']\n",
        "             )\n",
        "  history = NN.fit(x_train, y_train_OHE,\n",
        "                   epochs=100,\n",
        "                   batch_size=256,\n",
        "                   validation_split = 0.1,\n",
        "                   #callbacks=[early_stop],\n",
        "                   verbose = 0\n",
        "                   )\n",
        "  NN.evaluate(x_test, y_test_OHE,verbose=1)\n",
        "  break\n",
        ""
      ],
      "metadata": {
        "colab": {
          "base_uri": "https://localhost:8080/"
        },
        "id": "tmI0Jt8OY5ne",
        "outputId": "5a1cc62d-4bf2-40b7-9d29-80fb7162bb0a"
      },
      "execution_count": 226,
      "outputs": [
        {
          "output_type": "stream",
          "name": "stdout",
          "text": [
            "93/93 [==============================] - 0s 2ms/step - loss: 0.3820 - accuracy: 0.8863\n"
          ]
        }
      ]
    },
    {
      "cell_type": "code",
      "execution_count": 227,
      "metadata": {
        "id": "h6xS3p9Rg_jM",
        "colab": {
          "base_uri": "https://localhost:8080/",
          "height": 472
        },
        "outputId": "a350f24e-015b-4586-9c7c-36dbd1b303a3"
      },
      "outputs": [
        {
          "output_type": "display_data",
          "data": {
            "text/plain": [
              "<Figure size 640x480 with 1 Axes>"
            ],
            "image/png": "[encoded data removed]"
          },
          "metadata": {}
        }
      ],
      "source": [
        "# Access the training and validation errors from the history object\n",
        "train_errors = history.history['accuracy']\n",
        "val_errors = history.history['val_accuracy']\n",
        "\n",
        "# Get the number of epochs\n",
        "epochs = range(1, len(train_errors) + 1)\n",
        "\n",
        "# Plotting the learning curves\n",
        "plt.plot(epochs, train_errors, label='Training Accuracy')\n",
        "plt.plot(epochs, val_errors, label='Validation Accuracy')\n",
        "\n",
        "# Adding labels and title\n",
        "plt.xlabel('Epochs')\n",
        "plt.ylabel('Accuracy')\n",
        "plt.title('Learning Curves')\n",
        "plt.legend()\n",
        "\n",
        "# Displaying the plot\n",
        "plt.show()"
      ]
    },
    {
      "cell_type": "markdown",
      "metadata": {
        "id": "_OGcBz2jcT3k"
      },
      "source": [
        "> o) Una vez terminados los entrenamientos elija la mejor red hasta ahora y entrénela con el conjunto de entrenamiento completo sin validation split."
      ]
    },
    {
      "cell_type": "code",
      "execution_count": null,
      "metadata": {
        "id": "dq9q5Bn_cxG6"
      },
      "outputs": [],
      "source": [
        "\"\"\"\n",
        "Su código aquí\n",
        "\"\"\""
      ]
    },
    {
      "cell_type": "markdown",
      "metadata": {
        "id": "PD5GTcznc09Y"
      },
      "source": [
        "> p) Procese las predicciones del modelo sobre el conjunto de test para que pueda comparar los errores usando un heatmap de la matriz de confusión."
      ]
    },
    {
      "cell_type": "code",
      "execution_count": null,
      "metadata": {
        "id": "zFW02e31uM6p"
      },
      "outputs": [],
      "source": [
        "y_pred = ANN(x_test)\n",
        "y_pred = np.argmax(y_pred, axis=1)"
      ]
    },
    {
      "cell_type": "code",
      "execution_count": null,
      "metadata": {
        "id": "MxrY1Q8fvO-7"
      },
      "outputs": [],
      "source": [
        "y_test_comp = np.argmax(y_test_OHE, axis=1)"
      ]
    },
    {
      "cell_type": "code",
      "execution_count": null,
      "metadata": {
        "id": "5VYezZeQw8wj"
      },
      "outputs": [],
      "source": [
        "from sklearn.metrics import confusion_matrix\n",
        "\n",
        "cat = np.array([1,2,3,4,5,6])\n",
        "\n",
        "# Create the confusion matrix\n",
        "cm = confusion_matrix(cat[y_test_comp], cat[y_pred])\n",
        "\n",
        "# Get the number of classes\n",
        "num_classes = 6\n",
        "\n",
        "# Plot the confusion matrix\n",
        "plt.figure(figsize=(8, 6))\n",
        "plt.imshow(cm, interpolation='nearest', cmap=plt.cm.Blues)\n",
        "plt.title('Confusion Matrix')\n",
        "plt.colorbar()\n",
        "\n",
        "# Add x-axis and y-axis labels\n",
        "tick_marks = np.arange(num_classes)\n",
        "plt.xticks(tick_marks, LABELS, rotation=75)\n",
        "plt.yticks(tick_marks, LABELS)\n",
        "\n",
        "# Add labels to each cell\n",
        "thresh = cm.max() / 2.0\n",
        "for i in range(num_classes):\n",
        "    for j in range(num_classes):\n",
        "        plt.text(j, i, format(cm[i, j], 'd'),\n",
        "                 horizontalalignment=\"center\",\n",
        "                 color=\"white\" if cm[i, j] > thresh else \"black\")\n",
        "\n",
        "# Add axis labels\n",
        "plt.ylabel('True label')\n",
        "plt.xlabel('Predicted label')\n",
        "\n",
        "# Show the plot\n",
        "plt.tight_layout()\n",
        "plt.show()\n"
      ]
    },
    {
      "cell_type": "markdown",
      "metadata": {
        "id": "nmC9JAo4fWre"
      },
      "source": [
        "> q) Comente acerca de los resultados y explique cual es la actividad que mejor logra clasificar la red."
      ]
    },
    {
      "cell_type": "markdown",
      "metadata": {
        "id": "nYqpcB9OgChG"
      },
      "source": [
        "### 2.2.2 AdaBoost y arbustos\n",
        "\n",
        "> a) Describa brevemente como funciona el modelo AdaBoost.\n",
        "\n",
        "> b) ¿Qué clasificador se puede usar junto con Adaboost?\n",
        "\n",
        "> c) ¿Cómo funciona el _learning rate_ en el modelo AdaBoost?\n",
        "\n",
        "> d) Separe el conjunto de entrenamiento dejando el 10% para validación.\n",
        "\n",
        "> e) Entrene un clasificador AdaBoost con un arbusto (árbol de profundidad=2) con 300 estimadores y learning_rate=1\n",
        "\n",
        "**Nota:** Este modelo no usa One Hot Encoder para las clases, investigue como preprocesar los datos del conjunto para entrenar este modelo. Puede guiarse con el siguiente tutorial de sklearn: https://scikit-learn.org/stable/auto_examples/ensemble/plot_adaboost_multiclass.html#sphx-glr-auto-examples-ensemble-plot-adaboost-multiclass-py\n",
        "\n"
      ]
    },
    {
      "cell_type": "code",
      "execution_count": null,
      "metadata": {
        "id": "pHhynnuC8fy3"
      },
      "outputs": [],
      "source": [
        "ada = AdaBoostClassifier(\n",
        "    DecisionTreeClassifier(max_depth=2), n_estimators=300, learning_rate=1\n",
        ")"
      ]
    },
    {
      "cell_type": "code",
      "execution_count": null,
      "metadata": {
        "id": "fj5889e68-SG"
      },
      "outputs": [],
      "source": [
        "ada.fit(x_train, y_train)"
      ]
    },
    {
      "cell_type": "markdown",
      "metadata": {
        "id": "dN0H0C-2Vdzl"
      },
      "source": [
        "> f) Revise el error de validación con el conjunto de validaión."
      ]
    },
    {
      "cell_type": "code",
      "execution_count": null,
      "metadata": {
        "id": "66IPqBlAAIK2"
      },
      "outputs": [],
      "source": [
        "ada_errors = []\n",
        "\n",
        "for ada_val_predict in ada.staged_predict(x_val):\n",
        "    ada_val_errors.append(1.0 - accuracy_score(ada_val_predict, y_val))\n",
        "\n",
        "n_trees_ada = len(ada)"
      ]
    },
    {
      "cell_type": "markdown",
      "metadata": {
        "id": "yGtrDlfST44V"
      },
      "source": [
        "> g) Haga la misma prueba pero ahora con 30 estimadores"
      ]
    },
    {
      "cell_type": "code",
      "execution_count": null,
      "metadata": {
        "id": "FJoxYyhnV5Mw"
      },
      "outputs": [],
      "source": [
        "..."
      ]
    },
    {
      "cell_type": "markdown",
      "metadata": {
        "id": "NnFH55GLV6fR"
      },
      "source": [
        "> h) Una vez encontrado el mejor modelo basandose en el error de validación, entrene el mejr modelo con todo el conjunto de entrenamiento, es decir, sin hacer _validation split_ y luego evalúe el modelo sobre el conjunto de pruebas."
      ]
    },
    {
      "cell_type": "code",
      "execution_count": null,
      "metadata": {
        "id": "jA_GlqHVYAL_"
      },
      "outputs": [],
      "source": []
    },
    {
      "cell_type": "markdown",
      "metadata": {
        "id": "vM_9PTdZX_vr"
      },
      "source": [
        "> i) Muestre la matriz de confusión y comente sus resultados."
      ]
    },
    {
      "cell_type": "code",
      "execution_count": null,
      "metadata": {
        "id": "t-g8d3-xYGiA"
      },
      "outputs": [],
      "source": []
    },
    {
      "cell_type": "markdown",
      "metadata": {
        "id": "vxLbY6g9YG-q"
      },
      "source": [
        "## 2.3 Conclusiones\n",
        "\n",
        "Comente con qué modelo obtiene los mejores resultados, ¿qué otros experimentos realizaría para intentar mejorar los resultados?\n",
        "\n"
      ]
    }
  ],
  "metadata": {
    "colab": {
      "provenance": [],
      "include_colab_link": true
    },
    "kernelspec": {
      "display_name": "Python 3",
      "name": "python3"
    },
    "language_info": {
      "name": "python"
    }
  },
  "nbformat": 4,
  "nbformat_minor": 0
}